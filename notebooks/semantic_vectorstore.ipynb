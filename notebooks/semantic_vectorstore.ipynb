{
 "cells": [
  {
   "cell_type": "code",
   "execution_count": 1,
   "metadata": {},
   "outputs": [
    {
     "name": "stderr",
     "output_type": "stream",
     "text": [
      "/home/taiquach123471/anaconda3/envs/chatbots/lib/python3.11/site-packages/tqdm/auto.py:21: TqdmWarning: IProgress not found. Please update jupyter and ipywidgets. See https://ipywidgets.readthedocs.io/en/stable/user_install.html\n",
      "  from .autonotebook import tqdm as notebook_tqdm\n"
     ]
    }
   ],
   "source": [
    "from utils.semantic_chunking import reformat_semantic_chunks_with_overlap, create_semantic_chunks_from_directory_with_overlap\n",
    "from utils.semantic_chunking import create_summaries_from_chunks, summary_chain\n",
    "from utils.utils import batch_iterator, convert_defaultdict\n",
    "\n",
    "from semantic_encoder import BGEM3FlagEmbedEncoder\n",
    "from FlagEmbedding import BGEM3FlagModel\n",
    "from qdrant_client import QdrantClient, models\n",
    "\n",
    "from langchain_core.documents import Document\n",
    "\n",
    "\n",
    "from tqdm import tqdm\n",
    "import time\n",
    "\n",
    "import torch"
   ]
  },
  {
   "cell_type": "code",
   "execution_count": 3,
   "metadata": {},
   "outputs": [],
   "source": [
    "client = QdrantClient(\"http://localhost:6333\")"
   ]
  },
  {
   "cell_type": "code",
   "execution_count": 54,
   "metadata": {},
   "outputs": [],
   "source": [
    "#Creating vectorstore (if not exist)\n",
    "if not client.collection_exists(collection_name=\"semantic_summary_vectorstore\"):\n",
    "    client.create_collection(\n",
    "        \"semantic_summary_vectorstore\",\n",
    "        vectors_config={\n",
    "            \"dense\": models.VectorParams(\n",
    "                size=1024,\n",
    "                distance=models.Distance.COSINE\n",
    "            ),\n",
    "            \"colbert\": models.VectorParams(\n",
    "                size=1024,\n",
    "                distance=models.Distance.COSINE,\n",
    "                multivector_config=models.MultiVectorConfig(\n",
    "                    comparator=models.MultiVectorComparator.MAX_SIM,\n",
    "                )\n",
    "            ),\n",
    "        },\n",
    "        sparse_vectors_config={\n",
    "            \"sparse\": models.SparseVectorParams()\n",
    "        }\n",
    "    )\n",
    "\n",
    "if not client.collection_exists(collection_name=\"semantic_original\"):\n",
    "    client.create_collection(\"semantic_original\", vectors_config={})\n"
   ]
  },
  {
   "cell_type": "code",
   "execution_count": 3,
   "metadata": {},
   "outputs": [
    {
     "name": "stderr",
     "output_type": "stream",
     "text": [
      "\u001b[32m2024-09-27 11:18:24 INFO semantic_chunkers.utils.logger Single document exceeds the maximum token limit of 850. Splitting to sentences before semantically merging.\u001b[0m\n",
      "100%|██████████| 7/7 [00:11<00:00,  1.70s/it]\n",
      "\u001b[32m2024-09-27 11:18:36 INFO semantic_chunkers.utils.logger Single document exceeds the maximum token limit of 850. Splitting to sentences before semantically merging.\u001b[0m\n",
      "100%|██████████| 10/10 [00:17<00:00,  1.72s/it]\n",
      "\u001b[32m2024-09-27 11:18:54 INFO semantic_chunkers.utils.logger Single document exceeds the maximum token limit of 850. Splitting to sentences before semantically merging.\u001b[0m\n",
      "100%|██████████| 8/8 [00:15<00:00,  1.88s/it]\n",
      "\u001b[32m2024-09-27 11:19:09 INFO semantic_chunkers.utils.logger Single document exceeds the maximum token limit of 850. Splitting to sentences before semantically merging.\u001b[0m\n",
      "100%|██████████| 20/20 [00:35<00:00,  1.78s/it]\n",
      "\u001b[32m2024-09-27 11:19:45 INFO semantic_chunkers.utils.logger Single document exceeds the maximum token limit of 850. Splitting to sentences before semantically merging.\u001b[0m\n",
      "100%|██████████| 9/9 [00:13<00:00,  1.51s/it]\n",
      "\u001b[32m2024-09-27 11:19:58 INFO semantic_chunkers.utils.logger Single document exceeds the maximum token limit of 850. Splitting to sentences before semantically merging.\u001b[0m\n",
      "100%|██████████| 22/22 [00:34<00:00,  1.57s/it]\n",
      "\u001b[32m2024-09-27 11:20:33 INFO semantic_chunkers.utils.logger Single document exceeds the maximum token limit of 850. Splitting to sentences before semantically merging.\u001b[0m\n",
      "100%|██████████| 8/8 [00:16<00:00,  2.01s/it]\n",
      "\u001b[32m2024-09-27 11:20:49 INFO semantic_chunkers.utils.logger Single document exceeds the maximum token limit of 850. Splitting to sentences before semantically merging.\u001b[0m\n",
      "100%|██████████| 9/9 [00:21<00:00,  2.35s/it]\n",
      "\u001b[32m2024-09-27 11:21:11 INFO semantic_chunkers.utils.logger Single document exceeds the maximum token limit of 850. Splitting to sentences before semantically merging.\u001b[0m\n",
      "100%|██████████| 5/5 [00:13<00:00,  2.67s/it]\n",
      "\u001b[32m2024-09-27 11:21:24 INFO semantic_chunkers.utils.logger Single document exceeds the maximum token limit of 850. Splitting to sentences before semantically merging.\u001b[0m\n",
      "100%|██████████| 7/7 [00:13<00:00,  1.98s/it]\n",
      "\u001b[32m2024-09-27 11:21:38 INFO semantic_chunkers.utils.logger Single document exceeds the maximum token limit of 850. Splitting to sentences before semantically merging.\u001b[0m\n",
      "100%|██████████| 3/3 [00:06<00:00,  2.05s/it]\n",
      "\u001b[32m2024-09-27 11:21:44 INFO semantic_chunkers.utils.logger Single document exceeds the maximum token limit of 850. Splitting to sentences before semantically merging.\u001b[0m\n",
      "100%|██████████| 5/5 [00:13<00:00,  2.64s/it]\n",
      "\u001b[32m2024-09-27 11:21:57 INFO semantic_chunkers.utils.logger Single document exceeds the maximum token limit of 850. Splitting to sentences before semantically merging.\u001b[0m\n",
      "100%|██████████| 22/22 [00:34<00:00,  1.59s/it]\n",
      "\u001b[32m2024-09-27 11:22:33 INFO semantic_chunkers.utils.logger Single document exceeds the maximum token limit of 850. Splitting to sentences before semantically merging.\u001b[0m\n",
      "100%|██████████| 5/5 [00:12<00:00,  2.45s/it]\n",
      "\u001b[32m2024-09-27 11:22:45 INFO semantic_chunkers.utils.logger Single document exceeds the maximum token limit of 850. Splitting to sentences before semantically merging.\u001b[0m\n",
      "100%|██████████| 12/12 [00:35<00:00,  2.92s/it]\n",
      "\u001b[32m2024-09-27 11:23:20 INFO semantic_chunkers.utils.logger Single document exceeds the maximum token limit of 850. Splitting to sentences before semantically merging.\u001b[0m\n",
      "100%|██████████| 6/6 [00:13<00:00,  2.27s/it]\n",
      "\u001b[32m2024-09-27 11:23:34 INFO semantic_chunkers.utils.logger Single document exceeds the maximum token limit of 850. Splitting to sentences before semantically merging.\u001b[0m\n",
      "100%|██████████| 4/4 [00:08<00:00,  2.09s/it]\n",
      "\u001b[32m2024-09-27 11:23:43 INFO semantic_chunkers.utils.logger Single document exceeds the maximum token limit of 850. Splitting to sentences before semantically merging.\u001b[0m\n",
      "100%|██████████| 6/6 [00:17<00:00,  2.96s/it]\n",
      "\u001b[32m2024-09-27 11:24:00 INFO semantic_chunkers.utils.logger Single document exceeds the maximum token limit of 850. Splitting to sentences before semantically merging.\u001b[0m\n",
      "100%|██████████| 8/8 [00:14<00:00,  1.85s/it]\n",
      "\u001b[32m2024-09-27 11:24:15 INFO semantic_chunkers.utils.logger Single document exceeds the maximum token limit of 850. Splitting to sentences before semantically merging.\u001b[0m\n",
      "100%|██████████| 13/13 [00:31<00:00,  2.39s/it]\n",
      "\u001b[32m2024-09-27 11:24:47 INFO semantic_chunkers.utils.logger Single document exceeds the maximum token limit of 850. Splitting to sentences before semantically merging.\u001b[0m\n",
      "100%|██████████| 3/3 [00:06<00:00,  2.03s/it]\n",
      "\u001b[32m2024-09-27 11:24:53 INFO semantic_chunkers.utils.logger Single document exceeds the maximum token limit of 850. Splitting to sentences before semantically merging.\u001b[0m\n",
      "100%|██████████| 4/4 [00:08<00:00,  2.19s/it]\n",
      "\u001b[32m2024-09-27 11:25:02 INFO semantic_chunkers.utils.logger Single document exceeds the maximum token limit of 850. Splitting to sentences before semantically merging.\u001b[0m\n",
      "100%|██████████| 5/5 [00:09<00:00,  1.97s/it]\n",
      "\u001b[32m2024-09-27 11:25:12 INFO semantic_chunkers.utils.logger Single document exceeds the maximum token limit of 850. Splitting to sentences before semantically merging.\u001b[0m\n",
      "100%|██████████| 8/8 [00:15<00:00,  1.95s/it]\n",
      "\u001b[32m2024-09-27 11:25:27 INFO semantic_chunkers.utils.logger Single document exceeds the maximum token limit of 850. Splitting to sentences before semantically merging.\u001b[0m\n",
      "100%|██████████| 8/8 [00:18<00:00,  2.32s/it]\n",
      "\u001b[32m2024-09-27 11:25:46 INFO semantic_chunkers.utils.logger Single document exceeds the maximum token limit of 850. Splitting to sentences before semantically merging.\u001b[0m\n",
      "100%|██████████| 2/2 [00:03<00:00,  1.92s/it]\n",
      "\u001b[32m2024-09-27 11:25:50 INFO semantic_chunkers.utils.logger Single document exceeds the maximum token limit of 850. Splitting to sentences before semantically merging.\u001b[0m\n",
      "100%|██████████| 3/3 [00:05<00:00,  1.79s/it]\n",
      "\u001b[32m2024-09-27 11:25:55 INFO semantic_chunkers.utils.logger Single document exceeds the maximum token limit of 850. Splitting to sentences before semantically merging.\u001b[0m\n",
      "100%|██████████| 10/10 [00:26<00:00,  2.61s/it]\n",
      "\u001b[32m2024-09-27 11:26:22 INFO semantic_chunkers.utils.logger Single document exceeds the maximum token limit of 850. Splitting to sentences before semantically merging.\u001b[0m\n",
      "100%|██████████| 11/11 [00:22<00:00,  2.07s/it]\n",
      "\u001b[32m2024-09-27 11:26:45 INFO semantic_chunkers.utils.logger Single document exceeds the maximum token limit of 850. Splitting to sentences before semantically merging.\u001b[0m\n",
      "100%|██████████| 5/5 [00:11<00:00,  2.32s/it]\n",
      "\u001b[32m2024-09-27 11:26:56 INFO semantic_chunkers.utils.logger Single document exceeds the maximum token limit of 850. Splitting to sentences before semantically merging.\u001b[0m\n",
      "100%|██████████| 5/5 [00:13<00:00,  2.77s/it]\n",
      "\u001b[32m2024-09-27 11:27:10 INFO semantic_chunkers.utils.logger Single document exceeds the maximum token limit of 850. Splitting to sentences before semantically merging.\u001b[0m\n",
      "100%|██████████| 6/6 [00:10<00:00,  1.80s/it]\n",
      "\u001b[32m2024-09-27 11:27:21 INFO semantic_chunkers.utils.logger Single document exceeds the maximum token limit of 850. Splitting to sentences before semantically merging.\u001b[0m\n",
      "100%|██████████| 6/6 [00:13<00:00,  2.24s/it]\n",
      "\u001b[32m2024-09-27 11:27:35 INFO semantic_chunkers.utils.logger Single document exceeds the maximum token limit of 850. Splitting to sentences before semantically merging.\u001b[0m\n",
      "100%|██████████| 4/4 [00:06<00:00,  1.74s/it]\n",
      "\u001b[32m2024-09-27 11:27:42 INFO semantic_chunkers.utils.logger Single document exceeds the maximum token limit of 850. Splitting to sentences before semantically merging.\u001b[0m\n",
      "100%|██████████| 8/8 [00:15<00:00,  1.92s/it]\n",
      "\u001b[32m2024-09-27 11:27:57 INFO semantic_chunkers.utils.logger Single document exceeds the maximum token limit of 850. Splitting to sentences before semantically merging.\u001b[0m\n",
      "100%|██████████| 7/7 [00:16<00:00,  2.30s/it]\n",
      "\u001b[32m2024-09-27 11:28:13 INFO semantic_chunkers.utils.logger Single document exceeds the maximum token limit of 850. Splitting to sentences before semantically merging.\u001b[0m\n",
      "100%|██████████| 4/4 [00:09<00:00,  2.30s/it]\n",
      "\u001b[32m2024-09-27 11:28:23 INFO semantic_chunkers.utils.logger Single document exceeds the maximum token limit of 850. Splitting to sentences before semantically merging.\u001b[0m\n",
      "100%|██████████| 5/5 [00:08<00:00,  1.60s/it]\n",
      "\u001b[32m2024-09-27 11:28:31 INFO semantic_chunkers.utils.logger Single document exceeds the maximum token limit of 850. Splitting to sentences before semantically merging.\u001b[0m\n",
      "100%|██████████| 4/4 [00:10<00:00,  2.59s/it]\n",
      "\u001b[32m2024-09-27 11:28:41 INFO semantic_chunkers.utils.logger Single document exceeds the maximum token limit of 850. Splitting to sentences before semantically merging.\u001b[0m\n",
      "100%|██████████| 6/6 [00:13<00:00,  2.30s/it]\n",
      "\u001b[32m2024-09-27 11:28:55 INFO semantic_chunkers.utils.logger Single document exceeds the maximum token limit of 850. Splitting to sentences before semantically merging.\u001b[0m\n",
      "100%|██████████| 10/10 [00:19<00:00,  1.91s/it]\n",
      "\u001b[32m2024-09-27 11:29:14 INFO semantic_chunkers.utils.logger Single document exceeds the maximum token limit of 850. Splitting to sentences before semantically merging.\u001b[0m\n",
      "100%|██████████| 4/4 [00:10<00:00,  2.65s/it]\n",
      "\u001b[32m2024-09-27 11:29:25 INFO semantic_chunkers.utils.logger Single document exceeds the maximum token limit of 850. Splitting to sentences before semantically merging.\u001b[0m\n",
      "100%|██████████| 4/4 [00:06<00:00,  1.68s/it]\n",
      "\u001b[32m2024-09-27 11:29:32 INFO semantic_chunkers.utils.logger Single document exceeds the maximum token limit of 850. Splitting to sentences before semantically merging.\u001b[0m\n",
      "100%|██████████| 8/8 [00:14<00:00,  1.84s/it]\n",
      "\u001b[32m2024-09-27 11:29:47 INFO semantic_chunkers.utils.logger Single document exceeds the maximum token limit of 850. Splitting to sentences before semantically merging.\u001b[0m\n",
      "100%|██████████| 7/7 [00:12<00:00,  1.82s/it]\n",
      "\u001b[32m2024-09-27 11:30:00 INFO semantic_chunkers.utils.logger Single document exceeds the maximum token limit of 850. Splitting to sentences before semantically merging.\u001b[0m\n",
      "100%|██████████| 7/7 [00:13<00:00,  1.95s/it]\n",
      "\u001b[32m2024-09-27 11:30:13 INFO semantic_chunkers.utils.logger Single document exceeds the maximum token limit of 850. Splitting to sentences before semantically merging.\u001b[0m\n",
      "100%|██████████| 6/6 [00:15<00:00,  2.61s/it]\n",
      "\u001b[32m2024-09-27 11:30:29 INFO semantic_chunkers.utils.logger Single document exceeds the maximum token limit of 850. Splitting to sentences before semantically merging.\u001b[0m\n",
      "100%|██████████| 8/8 [00:24<00:00,  3.03s/it]\n",
      "\u001b[32m2024-09-27 11:30:53 INFO semantic_chunkers.utils.logger Single document exceeds the maximum token limit of 850. Splitting to sentences before semantically merging.\u001b[0m\n",
      "100%|██████████| 10/10 [00:20<00:00,  2.03s/it]\n",
      "\u001b[32m2024-09-27 11:31:14 INFO semantic_chunkers.utils.logger Single document exceeds the maximum token limit of 850. Splitting to sentences before semantically merging.\u001b[0m\n",
      "100%|██████████| 7/7 [00:12<00:00,  1.72s/it]\n",
      "\u001b[32m2024-09-27 11:31:26 INFO semantic_chunkers.utils.logger Single document exceeds the maximum token limit of 850. Splitting to sentences before semantically merging.\u001b[0m\n",
      "100%|██████████| 8/8 [00:15<00:00,  1.97s/it]\n"
     ]
    }
   ],
   "source": [
    "encoder = BGEM3FlagEmbedEncoder()\n",
    "chunks = create_semantic_chunks_from_directory_with_overlap('extracted/TÁC HẠI', encoder=encoder, min_split_tokens=300, max_split_tokens=850, window_size=20, overlap=0)\n",
    "\n",
    "encoder = None\n",
    "torch.cuda.empty_cache()"
   ]
  },
  {
   "cell_type": "code",
   "execution_count": 13,
   "metadata": {},
   "outputs": [],
   "source": [
    "#summaries = []"
   ]
  },
  {
   "cell_type": "code",
   "execution_count": 47,
   "metadata": {},
   "outputs": [
    {
     "name": "stderr",
     "output_type": "stream",
     "text": [
      "100%|██████████| 204/204 [10:30<00:00,  3.09s/it]\n"
     ]
    }
   ],
   "source": [
    "for chunk in tqdm(chunks[861:]):\n",
    "    title, summary, unique_id = chunk.metadata['Title'], chunk.metadata['Summary'], chunk.metadata['doc_id']\n",
    "    res = title + '\\n' + summary + '\\n\\nChunk of Text:\\n' + chunk.page_content\n",
    "\n",
    "    chunk_summary = summary_chain.invoke(res)\n",
    "    chunk_summary_document = Document(page_content=chunk_summary, metadata={\"doc_id\": unique_id, \"title\": title})\n",
    "    summaries.append(chunk_summary_document)\n",
    "\n",
    "    time.sleep(1.5)"
   ]
  },
  {
   "cell_type": "code",
   "execution_count": null,
   "metadata": {},
   "outputs": [],
   "source": []
  },
  {
   "cell_type": "code",
   "execution_count": 6,
   "metadata": {},
   "outputs": [
    {
     "name": "stderr",
     "output_type": "stream",
     "text": [
      "Fetching 30 files: 100%|██████████| 30/30 [00:00<00:00, 10698.85it/s]\n",
      "/home/taiquach123471/anaconda3/envs/chatbots/lib/python3.11/site-packages/FlagEmbedding/BGE_M3/modeling.py:335: FutureWarning: You are using `torch.load` with `weights_only=False` (the current default value), which uses the default pickle module implicitly. It is possible to construct malicious pickle data which will execute arbitrary code during unpickling (See https://github.com/pytorch/pytorch/blob/main/SECURITY.md#untrusted-models for more details). In a future release, the default value for `weights_only` will be flipped to `True`. This limits the functions that could be executed during unpickling. Arbitrary objects will no longer be allowed to be loaded via this mode unless they are explicitly allowlisted by the user via `torch.serialization.add_safe_globals`. We recommend you start setting `weights_only=True` for any use case where you don't have full control of the loaded file. Please open an issue on GitHub for any issues related to this experimental feature.\n",
      "  colbert_state_dict = torch.load(os.path.join(model_dir, 'colbert_linear.pt'), map_location='cpu')\n",
      "/home/taiquach123471/anaconda3/envs/chatbots/lib/python3.11/site-packages/FlagEmbedding/BGE_M3/modeling.py:336: FutureWarning: You are using `torch.load` with `weights_only=False` (the current default value), which uses the default pickle module implicitly. It is possible to construct malicious pickle data which will execute arbitrary code during unpickling (See https://github.com/pytorch/pytorch/blob/main/SECURITY.md#untrusted-models for more details). In a future release, the default value for `weights_only` will be flipped to `True`. This limits the functions that could be executed during unpickling. Arbitrary objects will no longer be allowed to be loaded via this mode unless they are explicitly allowlisted by the user via `torch.serialization.add_safe_globals`. We recommend you start setting `weights_only=True` for any use case where you don't have full control of the loaded file. Please open an issue on GitHub for any issues related to this experimental feature.\n",
      "  sparse_state_dict = torch.load(os.path.join(model_dir, 'sparse_linear.pt'), map_location='cpu')\n"
     ]
    }
   ],
   "source": [
    "embeddings = BGEM3FlagModel('BAAI/bge-m3', use_fp16=True)"
   ]
  },
  {
   "cell_type": "code",
   "execution_count": 56,
   "metadata": {},
   "outputs": [
    {
     "data": {
      "text/plain": [
       "1065"
      ]
     },
     "execution_count": 56,
     "metadata": {},
     "output_type": "execute_result"
    }
   ],
   "source": [
    "len(chunks)"
   ]
  },
  {
   "cell_type": "code",
   "execution_count": 57,
   "metadata": {},
   "outputs": [
    {
     "data": {
      "text/plain": [
       "{'source': 'extracted/TÁC HẠI/Journal of Sleep Research - 2022 - Felső - Total sleep deprivation decreases saliva ghrelin levels in adolescents.md',\n",
       " 'Title': 'Title: Total sleep deprivation decreases saliva ghrelin levels in adolescents',\n",
       " 'Summary': 'Summary: This study investigates the impact of a single night of total sleep deprivation on fasting saliva ghrelin levels in adolescents. It finds that total sleep deprivation significantly blunts the increase in total-ghrelin concentration that typically occurs overnight, particularly in adolescents with overweight or obesity. The research highlights the physiological implications of sleep deprivation on ghrelin levels, suggesting a need for further studies to explore these effects in greater detail.',\n",
       " 'doc_id': 'a2e4104a-6748-409f-af66-31b794895732'}"
      ]
     },
     "execution_count": 57,
     "metadata": {},
     "output_type": "execute_result"
    }
   ],
   "source": [
    "chunks[0].metadata"
   ]
  },
  {
   "cell_type": "code",
   "execution_count": 58,
   "metadata": {},
   "outputs": [],
   "source": [
    "for chunk in chunks:\n",
    "    id = chunk.metadata['doc_id']\n",
    "    try:\n",
    "        client.upload_points(\n",
    "            \"semantic_original\",\n",
    "            points = [\n",
    "                models.PointStruct(\n",
    "                    id = id,\n",
    "                    vector = {},\n",
    "                    payload = {\n",
    "                        \"doc_id\": id,\n",
    "                        \"source\": chunk.metadata['source'],\n",
    "                        \"title\": chunk.metadata[\"Title\"],\n",
    "                        \"page_content\": chunk.page_content\n",
    "                    }\n",
    "                )\n",
    "            ],\n",
    "            batch_size=1\n",
    "        )\n",
    "    except:\n",
    "        print(f\"Error when uploading - {id}\")\n",
    "        continue"
   ]
  },
  {
   "cell_type": "code",
   "execution_count": 61,
   "metadata": {},
   "outputs": [],
   "source": [
    "batch_size = 16\n",
    "for batch in batch_iterator(summaries, batch_size):\n",
    "    text = [summary.page_content for summary in batch]\n",
    "    res = embeddings.encode(text, return_sparse=True, return_colbert_vecs=True, batch_size=16)\n",
    "\n",
    "    for i, _ in enumerate(batch):\n",
    "        doc_id = batch[i].metadata['doc_id']\n",
    "        title = batch[i].metadata['title']\n",
    "        content = batch[i].page_content\n",
    "        try:\n",
    "            client.upload_points(\n",
    "                \"semantic_summary_vectorstore\",\n",
    "                points = [\n",
    "                    models.PointStruct(\n",
    "                        id = doc_id,\n",
    "                        vector = {\n",
    "                            \"dense\": res['dense_vecs'][i].tolist(),\n",
    "                            \"colbert\": res['colbert_vecs'][i].tolist(),\n",
    "                            \"sparse\": convert_defaultdict(res['lexical_weights'][i])\n",
    "                        },\n",
    "                        payload = {\n",
    "                            \"doc_id\": doc_id,\n",
    "                            \"title\": title,\n",
    "                            \"content\": content,\n",
    "                        }\n",
    "\n",
    "                    )\n",
    "                ],\n",
    "                batch_size=1\n",
    "            )\n",
    "        except:\n",
    "            print(f\"Error when uploading - {doc_id}\")\n",
    "            continue"
   ]
  }
 ],
 "metadata": {
  "kernelspec": {
   "display_name": "chatbots",
   "language": "python",
   "name": "python3"
  },
  "language_info": {
   "codemirror_mode": {
    "name": "ipython",
    "version": 3
   },
   "file_extension": ".py",
   "mimetype": "text/x-python",
   "name": "python",
   "nbconvert_exporter": "python",
   "pygments_lexer": "ipython3",
   "version": "3.11.9"
  }
 },
 "nbformat": 4,
 "nbformat_minor": 2
}
