{
 "cells": [
  {
   "cell_type": "code",
   "execution_count": 1,
   "metadata": {},
   "outputs": [
    {
     "name": "stderr",
     "output_type": "stream",
     "text": [
      "/home/taiquach123471/anaconda3/envs/chatbots/lib/python3.11/site-packages/tqdm/auto.py:21: TqdmWarning: IProgress not found. Please update jupyter and ipywidgets. See https://ipywidgets.readthedocs.io/en/stable/user_install.html\n",
      "  from .autonotebook import tqdm as notebook_tqdm\n",
      "Fetching 30 files: 100%|██████████| 30/30 [00:00<00:00, 215092.51it/s]\n",
      "/home/taiquach123471/anaconda3/envs/chatbots/lib/python3.11/site-packages/FlagEmbedding/BGE_M3/modeling.py:335: FutureWarning: You are using `torch.load` with `weights_only=False` (the current default value), which uses the default pickle module implicitly. It is possible to construct malicious pickle data which will execute arbitrary code during unpickling (See https://github.com/pytorch/pytorch/blob/main/SECURITY.md#untrusted-models for more details). In a future release, the default value for `weights_only` will be flipped to `True`. This limits the functions that could be executed during unpickling. Arbitrary objects will no longer be allowed to be loaded via this mode unless they are explicitly allowlisted by the user via `torch.serialization.add_safe_globals`. We recommend you start setting `weights_only=True` for any use case where you don't have full control of the loaded file. Please open an issue on GitHub for any issues related to this experimental feature.\n",
      "  colbert_state_dict = torch.load(os.path.join(model_dir, 'colbert_linear.pt'), map_location='cpu')\n",
      "/home/taiquach123471/anaconda3/envs/chatbots/lib/python3.11/site-packages/FlagEmbedding/BGE_M3/modeling.py:336: FutureWarning: You are using `torch.load` with `weights_only=False` (the current default value), which uses the default pickle module implicitly. It is possible to construct malicious pickle data which will execute arbitrary code during unpickling (See https://github.com/pytorch/pytorch/blob/main/SECURITY.md#untrusted-models for more details). In a future release, the default value for `weights_only` will be flipped to `True`. This limits the functions that could be executed during unpickling. Arbitrary objects will no longer be allowed to be loaded via this mode unless they are explicitly allowlisted by the user via `torch.serialization.add_safe_globals`. We recommend you start setting `weights_only=True` for any use case where you don't have full control of the loaded file. Please open an issue on GitHub for any issues related to this experimental feature.\n",
      "  sparse_state_dict = torch.load(os.path.join(model_dir, 'sparse_linear.pt'), map_location='cpu')\n"
     ]
    }
   ],
   "source": [
    "from FlagEmbedding import FlagReranker, BGEM3FlagModel\n",
    "\n",
    "reranker = FlagReranker('BAAI/bge-reranker-v2-m3', use_fp16=True)\n",
    "embeddings = BGEM3FlagModel('BAAI/bge-m3', use_fp16=True)"
   ]
  },
  {
   "cell_type": "code",
   "execution_count": 2,
   "metadata": {},
   "outputs": [],
   "source": [
    "from qdrant_client import QdrantClient, models\n",
    "from langchain_groq import ChatGroq\n",
    "from langchain_core.prompts import ChatPromptTemplate\n",
    "from langchain_core.output_parsers import StrOutputParser\n",
    "from utils.utils import convert_defaultdict, format_docs\n",
    "from langchain_core.documents import Document\n",
    "import numpy as np"
   ]
  },
  {
   "cell_type": "code",
   "execution_count": 3,
   "metadata": {},
   "outputs": [],
   "source": [
    "client = QdrantClient(\"http://localhost:6333\")\n",
    "llm = ChatGroq(model=\"llama3-70b-8192\")"
   ]
  },
  {
   "cell_type": "code",
   "execution_count": 4,
   "metadata": {},
   "outputs": [],
   "source": [
    "prompt = ChatPromptTemplate.from_template(\"\"\"Answer the question based on the provided context only. Try your best to provide the most accurate response.\n",
    "<context>\n",
    "{context}\n",
    "</context>\n",
    "\n",
    "Question: {input}\n",
    "\"\"\")\n",
    "\n",
    "chain = prompt | llm"
   ]
  },
  {
   "cell_type": "code",
   "execution_count": 5,
   "metadata": {},
   "outputs": [],
   "source": [
    "query = \"I'm 22 years old and I usually sleep at 2am. How can this affect my health?\""
   ]
  },
  {
   "cell_type": "code",
   "execution_count": 6,
   "metadata": {},
   "outputs": [],
   "source": [
    "res = embeddings.encode([query], return_sparse=True, return_colbert_vecs=True, max_length=512)"
   ]
  },
  {
   "cell_type": "code",
   "execution_count": 7,
   "metadata": {},
   "outputs": [],
   "source": [
    "result = client.query_points(\n",
    "    \"summary\",\n",
    "    prefetch=[\n",
    "        models.Prefetch(\n",
    "            query=res['dense_vecs'][0],\n",
    "            using=\"dense\",\n",
    "            limit=20\n",
    "        ),\n",
    "        models.Prefetch(\n",
    "            query=models.SparseVector(**convert_defaultdict(res['lexical_weights'][0])),\n",
    "            using=\"sparse\",\n",
    "            limit=20\n",
    "        ),\n",
    "        models.Prefetch(\n",
    "            query=res['colbert_vecs'][0],\n",
    "            using='colbert',\n",
    "            limit=20\n",
    "        )\n",
    "    ],\n",
    "    query=models.FusionQuery(\n",
    "        fusion=models.Fusion.RRF,\n",
    "    ),\n",
    "    limit=10\n",
    ")"
   ]
  },
  {
   "cell_type": "code",
   "execution_count": 8,
   "metadata": {},
   "outputs": [
    {
     "data": {
      "text/plain": [
       "[ScoredPoint(id='e8c5e083-e663-4b19-8287-fc716c06c6ca', version=251, score=0.8666667, payload={'doc_id': 'e8c5e083-e663-4b19-8287-fc716c06c6ca', 'title': 'Title: The Global Problem of Insufficient Sleep and Its Serious Public Health Implications', 'content': 'This chunk of text discusses the recommended sleep duration for adults, the pathophysiology of insufficient sleep, contributing factors, and the manifestations of insufficient sleep on cognitive function and mood. The American Academy of Sleep Medicine, Sleep Research Society, and National Sleep Foundation recommend 7-9 hours of sleep per night for ideal sleep health. Insufficient sleep leads to changes in biomarkers, such as proinflammatory markers, and affects cholesterol metabolism and inflammatory responses. Factors contributing to insufficient sleep include gender, marital status, presence of children, biological or circadian disruption, genetic influences, lifestyle habits, and various types of stress. Insufficient sleep is associated with cognitive effects, such as aberrant behavior, increased risk-taking, and poor judgment, as well as mood disturbances, including irritability, moodiness, and poor frustration tolerance. Additionally, chronic sleep restriction is linked to suicidal risk in adolescents and has adverse effects on mood and behavior across different age and social groups.'}, vector=None, shard_key=None, order_value=None),\n",
       " ScoredPoint(id='e47e5cff-828a-4559-ab42-16da1bb5695c', version=70, score=0.5625, payload={'doc_id': 'e47e5cff-828a-4559-ab42-16da1bb5695c', 'title': 'Title: Sleep’s role in the development and resolution of adolescent depression', 'content': 'This section of the article focuses on the sleep patterns of adolescents and their relationship to the development of depression. Adolescents, defined as individuals between pubertal onset and 21 years of age, are the most chronically sleep-restricted subpopulation across human development. Data from around the world show that adolescents sleep too late and too little, with sleep onset becoming later as they age. This restricted sleep opportunity is especially pronounced in countries with early school start times, which can lead to sleep durations significantly shorter than the optimal 9.0-9.3 hours.\\n\\nThe article highlights that this restricted sleep pattern coincides with a period of increased risk for the onset of low mood and depression in adolescents, with approximately 2.6% of adolescents experiencing a depressive disorder at any given time. Female adolescents are twice as likely as male adolescents to experience depression, and other risk factors include having a parent with depression, exposure to stressful life events, and experiencing bullying.\\n\\nDepression in adolescents can have long-term negative impacts, including an increased risk of further episodes of depression as an adult, and developing other mental health disorders. Moreover, adolescence-onset depression has been associated with educational underachievement, low income levels, and unemployment, and is a risk factor for suicidal behavior.\\n\\nThe article emphasizes that sleep problems are a common symptom of depression in adolescents, with 92% of depressed adolescents experiencing sleep disturbances. These sleep problems can manifest in various ways, including insomnia, hypersomnia, and fatigue, and can have significant consequences, such as impaired concentration, poor school performance, and recurrent thoughts of death. Overall, the article suggests that addressing sleep issues is crucial in treating comorbid disorders in adolescents, and that evidence-based sleep interventions, such as bright light therapy and cognitive-behavioral techniques, can improve sleep and alleviate depressive symptoms.'}, vector=None, shard_key=None, order_value=None),\n",
       " ScoredPoint(id='8387bb97-b802-45cc-8575-f845e0ecbdeb', version=539, score=0.5, payload={'doc_id': '8387bb97-b802-45cc-8575-f845e0ecbdeb', 'title': 'Title: Social jetlag in health and behavioral research: a systematic review', 'content': \"This chunk of text presents a comprehensive overview of the outcomes related to social jetlag (SJL), which is calculated as the midpoint between sleep onset and sleep end (MSF-MSW) or between bedtime and rising time. The studies reviewed explore the implications of SJL on various health and behavioral outcomes.\\n\\nThe results show that SJL is associated with a higher probability of smoking, depression, obesity, and aggression. Specifically, SJL greater than 2 hours is linked to higher depression scores, and individuals with mild to severe depression symptoms tend to have higher SJL. Additionally, SJL is correlated with obesity, particularly in individuals with a BMI ≥25, and is also associated with higher physical and verbal aggression scores.\\n\\nFurthermore, SJL is found to affect academic performance, with students experiencing poor academic grades during lecture terms and better performance during exam periods. SJL is also linked to a higher risk of metabolic disorders, including higher triglycerides, fasting insulin, insulin resistance, and waist circumference.\\n\\nOther outcomes related to SJL include a higher risk of atherosclerotic disease, winter seasonal affective disorder in women, and adverse endocrine and cardiovascular risk profiles. SJL is also associated with poor cognitive performance, lower general cognitive ability, and lower academic achievement, with greater effects observed in women.\\n\\nIn terms of psychological well-being, SJL is positively correlated with nervous mood and is linked to conduct problems, such as poor academic performance and defiant attitude. The studies reviewed also suggest that SJL is prevalent in epileptic individuals, particularly in those with general epilepsy compared to focal epilepsy.\\n\\nOverall, the findings highlight the significance of SJL as a predictor of various health and behavioral outcomes, emphasizing the importance of considering the discrepancies between an individual's biological clock and social obligations in health and behavioral research.\"}, vector=None, shard_key=None, order_value=None),\n",
       " ScoredPoint(id='d75e3350-86f5-4cb0-9e37-6a0df93a95fb', version=260, score=0.42424244, payload={'doc_id': 'd75e3350-86f5-4cb0-9e37-6a0df93a95fb', 'title': 'Title: The Global Problem of Insufficient Sleep and Its Serious Public Health Implications', 'content': 'The provided chunk of text presents a comprehensive review of the relationship between insufficient sleep and various health consequences. The cited studies demonstrate that chronic sleep insufficiency is linked to an increased risk of obesity, type 2 diabetes, cardiovascular diseases, and cognitive dysfunctions. Specifically, the research highlights that insufficient sleep can lead to changes in energy metabolism, appetite regulation, and glucose homeostasis, ultimately contributing to weight gain and metabolic disorders.\\n\\nFurthermore, the studies suggest that insufficient sleep is associated with a higher risk of developing certain medical conditions, including migraine, low back pain, burnout, and certain types of cancer, such as prostate and breast cancer. Additionally, the research indicates that insufficient sleep can impair job performance, increase the risk of work-related injuries, and exacerbate symptoms of depression and anxiety.\\n\\nThe cited studies also explore the impact of shift work and irregular sleep schedules on overall health, highlighting the increased risk of cardiovascular disease, metabolic disorders, and mood disturbances in individuals working non-traditional schedules. The review emphasizes the importance of addressing sleep quality and duration as a critical aspect of maintaining overall health and preventing chronic diseases.\\n\\nIn summary, the presented research underscores the significance of adequate sleep in maintaining physical and mental health, and the far-reaching consequences of chronic sleep insufficiency on various aspects of well-being.'}, vector=None, shard_key=None, order_value=None),\n",
       " ScoredPoint(id='e50601fd-6813-41b5-addf-156baba073f9', version=258, score=0.35876623, payload={'doc_id': 'e50601fd-6813-41b5-addf-156baba073f9', 'title': 'Title: The Global Problem of Insufficient Sleep and Its Serious Public Health Implications', 'content': 'The chunk of text highlights the alarming prevalence of insufficient sleep across different age groups and its severe public health implications. According to various studies, a significant proportion of the global population suffers from inadequate sleep, which is linked to various medical conditions, such as cardiovascular diseases, diabetes, and cognitive dysfunctions. The authors emphasize that modern technology has exacerbated the problem, contributing to the growing economic costs of insufficient sleep.\\n\\nThe reviewed studies demonstrate that insufficient sleep is a widespread issue, affecting not only adults but also adolescents and older adults. For instance, one study found that 40% of 40- to 45-year-olds in the Hordaland Health Study reported sleeping less than 7 hours per night, while another study revealed that 30% of American Indians/Alaska Natives experienced frequent insufficient sleep. The prevalence of insufficient sleep is also high among specific populations, such as redeployed soldiers, workers with non-traditional schedules, and healthcare professionals.\\n\\nThe consequences of insufficient sleep are far-reaching, including increased mortality risk, cardiovascular disease, and cognitive impairments. The economic costs of insufficient sleep are substantial, with one study estimating that it results in a loss of 1.7% to 2.5% of the global GDP. The authors stress that improved sleep quality assessments are crucial to mitigating these health risks and reducing the economic burden of insufficient sleep.\\n\\nOverall, the chunk of text underscores the urgent need to address the global problem of insufficient sleep, emphasizing the importance of recognizing it as a major public health concern and taking measures to promote better sleep quality and duration.'}, vector=None, shard_key=None, order_value=None),\n",
       " ScoredPoint(id='90428f55-3609-4fe2-b7cf-d0c54e8e83e6', version=267, score=0.3409091, payload={'doc_id': '90428f55-3609-4fe2-b7cf-d0c54e8e83e6', 'title': 'Title: Sleep hygiene a neglected paediatric identity – A cross-sectional study', 'content': 'The conclusion of this study emphasizes the alarming prevalence of poor sleep quality among children aged 7-12 years, which is positively associated with obesity and unfavorable academic outcomes. The authors stress that sleep, often overlooked as a crucial component of health, should be given more emphasis. They recommend educating parents about the importance of sleep and the negative consequences of poor sleep hygiene, which can be addressed through manageable lifestyle changes. This education can be incorporated into regular parent-teacher meetings, ultimately leading to improved academic performance. The study highlights the significance of sleep hygiene in preventing non-communicable diseases and improving overall health.'}, vector=None, shard_key=None, order_value=None),\n",
       " ScoredPoint(id='71f96ad1-ccc4-45d1-a35c-6a2fd2e2f9ef', version=472, score=0.33333334, payload={'doc_id': '71f96ad1-ccc4-45d1-a35c-6a2fd2e2f9ef', 'title': 'Title: Effect of Sleep Deprivation on the Academic Performance and Cognitive Functions among the College Students: A Cross Sectional Study', 'content': 'This study examines the impact of sleep deprivation on the academic performance and cognitive functions of 200 healthy college students aged 18-24. The participants completed a self-administered questionnaire, and their GPAs were recorded. The results show that 52.7% of students believed their academic performance was hindered due to insufficient sleep, and 78.7% felt sleep-deprived. The majority of students (86%) took more than 10 minutes to fall asleep at night, and 44.6% had regular sleeping hours of 6-7 hours. \\n\\nThe study found that sleep deprivation significantly affected academic performance, with 88% of students reporting difficulty staying awake or focused during classes, 54% during exams, and 83.3% feeling less energetic or motivated. Furthermore, 41.3% of students reported a weakened immune system due to sleep deprivation. The analysis of GPAs revealed that students who were sleep-deprived were more likely to have lower GPAs, with 42% of sleep-deprived students failing (GPA = 0) compared to 9.3% of non-sleep-deprived students.\\n\\nThe study highlights the importance of adequate sleep for optimal cognitive functioning and academic success, emphasizing the need for college students to prioritize sleep to improve their academic performance and overall well-being.'}, vector=None, shard_key=None, order_value=None),\n",
       " ScoredPoint(id='df670f99-87fe-4862-99ac-cc826e175031', version=542, score=0.33333334, payload={'doc_id': 'df670f99-87fe-4862-99ac-cc826e175031', 'title': 'Title: Social jetlag in health and behavioral research: a systematic review', 'content': 'This chunk of text reviews the results of various studies investigating the relationship between social jetlag (SJL) and various health outcomes. SJL is calculated as the midpoint between sleep onset and sleep end, and its effects on anxiety, academic achievement, circadian system state, depression, anxiety, anger, obesity, cognitive function, hallucinations, paranoia, mania, hypomania, inadequate diet, and work ability are examined. The results show that higher SJL is associated with depression, anxiety, and inadequate diet, but not with academic achievement, hallucinations, paranoia, mania, or hypomania. The relationship between SJL and obesity is inconsistent, with some studies finding an association and others not. The evidence suggests that SJL may affect metabolic risk, cardiovascular pathologies, and cortisol levels, but the findings are not conclusive. The review highlights the need for further research to understand the mechanisms underlying the effects of SJL on health outcomes, particularly in relation to depression, obesity, and metabolic risk. The influence of latitude, age, and chronotype on the effects of SJL is also discussed, and the importance of controlling for energy intake, energy expenditure, and body fat in future studies is emphasized.'}, vector=None, shard_key=None, order_value=None),\n",
       " ScoredPoint(id='adfea4e2-f2a2-41f0-8e35-211f7b9977a0', version=255, score=0.2769231, payload={'doc_id': 'adfea4e2-f2a2-41f0-8e35-211f7b9977a0', 'title': 'Title: The Global Problem of Insufficient Sleep and Its Serious Public Health Implications', 'content': 'This chunk of text presents a comprehensive overview of the various health issues and impairments associated with sleep deprivation. The table outlines the adverse effects of inadequate sleep on physical and mental health, including increased risks of hypertension, cardiovascular incidents, type 2 diabetes mellitus, depression, obesity, cancer, and mortality. Additionally, sleep deprivation is linked to cognitive impairments, such as decreased visuomotor performance, rigid thinking, and difficulties in utilizing new information, as well as impaired memory, mood, and thinking. The consequences of sleep deprivation also extend to daily life, with increased risks of personal injury, traffic accidents, industrial accidents, medical errors, and decreased workplace productivity. Furthermore, sleep deprivation affects decision-making, moral judgment, and learning and academic performance. The authors emphasize the significance of these findings, highlighting the need for improved sleep quality assessments to mitigate the associated health risks. Overall, this section emphasizes the far-reaching and detrimental effects of sleep deprivation on overall health and well-being.'}, vector=None, shard_key=None, order_value=None),\n",
       " ScoredPoint(id='0b60d743-5fda-46bd-b1f7-2af280d4659d', version=392, score=0.26507938, payload={'doc_id': '0b60d743-5fda-46bd-b1f7-2af280d4659d', 'title': 'Title: Short Sleep Duration Among Middle School and High School Students — United States, 2015', 'content': 'This chunk of text discusses the prevalence of short sleep duration among middle school and high school students in the United States, as reported in the 2015 Youth Risk Behavior Surveys (YRBSs). The analysis reveals that 57.8% of middle school students and 72.7% of high school students reported short sleep duration on school nights, which is associated with increased risks of obesity, diabetes, injuries, poor mental health, attention and behavior problems, and poor academic performance. The American Academy of Sleep Medicine recommends 9-12 hours of sleep for children aged 6-12 years and 8-10 hours for teens aged 13-18 years. The findings suggest that a significant proportion of students do not get enough sleep, highlighting the need for initiatives to promote sleep health, including potential changes to school start times. The data were collected through the YRBSs, which are conducted by the Centers for Disease Control and Prevention (CDC) and use a cluster sample design to obtain representative samples of students in public and private schools. The surveys are anonymous, voluntary, and school-based, and the response rates varied by state and jurisdiction. The results of this study underscore the importance of addressing sleep health among adolescents to mitigate the associated health risks and promote overall well-being.'}, vector=None, shard_key=None, order_value=None)]"
      ]
     },
     "execution_count": 8,
     "metadata": {},
     "output_type": "execute_result"
    }
   ],
   "source": [
    "result.points"
   ]
  },
  {
   "cell_type": "code",
   "execution_count": 9,
   "metadata": {},
   "outputs": [
    {
     "data": {
      "text/plain": [
       "array([0.02052779, 0.0433658 , 0.04707418, 0.02556521, 0.02585878])"
      ]
     },
     "execution_count": 9,
     "metadata": {},
     "output_type": "execute_result"
    }
   ],
   "source": [
    "scores = reranker.compute_score([[query, point.payload['content']] for point in result.points[:5]], max_length=8096, batch_size=8, normalize=True)\n",
    "scores = np.array(scores)\n",
    "scores"
   ]
  },
  {
   "cell_type": "code",
   "execution_count": 10,
   "metadata": {},
   "outputs": [],
   "source": [
    "reranking = list(np.array(result.points)[scores.argsort()][::-1])"
   ]
  },
  {
   "cell_type": "code",
   "execution_count": 11,
   "metadata": {},
   "outputs": [],
   "source": [
    "relevant_docs = []\n",
    "for point in reranking:\n",
    "    doc = client.scroll(\n",
    "        collection_name=\"original\",\n",
    "        scroll_filter=models.Filter(\n",
    "            must=[\n",
    "                models.FieldCondition(\n",
    "                    key=\"doc_id\",\n",
    "                    match=models.MatchValue(value=point.id)\n",
    "                )\n",
    "            ]\n",
    "        )\n",
    "    )\n",
    "    temp_payload = doc[0][0].payload\n",
    "    res_doc = Document(page_content=temp_payload['page_content'], metadata={'source':temp_payload['source'], 'doc_id': temp_payload['doc_id'], 'title': temp_payload['title']})\n",
    "    relevant_docs.append(res_doc)"
   ]
  },
  {
   "cell_type": "code",
   "execution_count": 12,
   "metadata": {},
   "outputs": [
    {
     "data": {
      "text/plain": [
       "5"
      ]
     },
     "execution_count": 12,
     "metadata": {},
     "output_type": "execute_result"
    }
   ],
   "source": [
    "len(relevant_docs)"
   ]
  },
  {
   "cell_type": "code",
   "execution_count": 13,
   "metadata": {},
   "outputs": [
    {
     "name": "stdout",
     "output_type": "stream",
     "text": [
      "# Sleep’s role in the development and resolution of adolescent depression\n",
      "\n",
      "## Abstract\n",
      "Two adolescent mental health fields — sleep and depression — have advanced largely in parallel until about four years ago. Although sleep problems have been thought to be a symptom of adolescent depression, emerging evidence suggests that sleep difficulties arise before depression does. In this Review, we describe how the combination of adolescent sleep biology and psychology uniquely predispose adolescents to develop depression. We describe multiple pathways and contributors, including a delayed circadian rhythm, restricted sleep duration and greater opportunity for repetitive negative thinking while waiting for sleep. We match each contributor with evidence-based sleep interventions, including bright light therapy, exogenous melatonin and cognitive-behaviour therapy techniques. Such treatments improve sleep and alleviate depression symptoms, highlighting the utility of sleep treatment for comorbid disorders experienced by adolescents.\n",
      "\n",
      "Adolescents (from pubertal onset to 21 years of age) are the most chronically sleep-restricted subpopulation across human development. Data from across the world suggest that adolescents sleep too late and too little. Such meta-analytical and descriptive data show similar patterns of adolescent sleep in Western and Eastern societies. Sleep onset for adolescents becomes later as they age (both on weekdays and weekends), a phenomenon not observed during any other decade in life. A lack of morning commitments allows adolescents to potentially obtain optimal sleep duration (9.0–9.3 hours) on weekends. However, they are not afforded the same sleep opportunity on weekdays owing to the need to rise earlier than their natural wake time to attend school. This restricted sleep opportunity is especially pronounced in countries that implement an early school start (for example, 7:30 am in the USA). Increases in sleep duration on school nights occurs when school start times are delayed. Indeed, the quarantine associated with the COVID-19 pandemic eliminated the need for morning travel and therefore provided an extended sleep opportunity for adolescents, who showed increased sleep duration accordingly. However, the return to in-person learning is accompanied by a return to restricted sleep for adolescents. Although the American Academy of Pediatrics and the US Centers for Disease Control and Prevention have recommended delaying school start times to match adolescents’ natural tendency for delayed sleep timing, such policy changes have been largely unsuccessful — and are therefore not the solution.\n",
      "\n",
      "The rapid cascade of events that uniquely affect adolescent sleep begin around the beginning of high school and puberty. This coincides with a period of increased risk for the onset of low mood and depression in adolescents. Approximately 2.6% of adolescents experience a depressive disorder at any given time, with the cumulative frequency of depression rising to 20% by the end of adolescence. Female adolescents are twice as likely as male adolescents to experience depression. Other risk factors include having a parent that has experienced depression, exposure to stressful life events and experiencing bullying. Experiencing depression in youth can have long-term negative impacts, including an increased risk of further episodes of depression as an adult, and developing other mental health disorders. Adolescence-onset depression has also been associated with educational underachievement, low income levels and unemployment, and is a risk factor for suicidal behaviour.\n",
      "\n",
      "Depression is characterized by a diverse range of symptoms. From the nine symptom domains identified by the Diagnostic and Statistical Manual of Mental Disorders edition 5 (DSM-5), more than 1,000 symptom combinations can be computed that meet the diagnostic criteria. Little is known as to whether different combinations of symptoms at presentation are sufficient to form distinct subgroups. One study suggests that there might be subtypes of depression that are primarily characterized by severity, with less severe groups (for example, fewer symptoms and lower risk) still presenting with high levels of somatic symptoms, such as sleep disturbance. Among depressed adolescents, sleep problems (92%) # Reviews\n",
      "\n",
      "| Restricted sleep | Depression |\n",
      "|------------------|------------|\n",
      "| Problems socializing | Tiredness |\n",
      "| Increased risk of accidents | Impaired concentration |\n",
      "| Reduced positive mood | Unintentional weight loss or gain |\n",
      "| Low energy | Poor school performance |\n",
      "| Insomnia/hypersomnia | Recurrent thoughts of death |\n",
      "| Tension, headaches, stomach aches | Fatigue |\n",
      "| Worries about sleep | Sense of worthlessness |\n"
     ]
    }
   ],
   "source": [
    "print(relevant_docs[1].page_content)"
   ]
  },
  {
   "cell_type": "code",
   "execution_count": 14,
   "metadata": {},
   "outputs": [
    {
     "data": {
      "text/plain": [
       "{'source': 'extracted/TÁC HẠI/Social jetlag in health and behavioral research  a systematic review.md',\n",
       " 'doc_id': '8387bb97-b802-45cc-8575-f845e0ecbdeb',\n",
       " 'title': 'Title: Social jetlag in health and behavioral research: a systematic review'}"
      ]
     },
     "execution_count": 14,
     "metadata": {},
     "output_type": "execute_result"
    }
   ],
   "source": [
    "relevant_docs[0].metadata"
   ]
  },
  {
   "cell_type": "code",
   "execution_count": 15,
   "metadata": {},
   "outputs": [],
   "source": [
    "context = format_docs(relevant_docs[:4])"
   ]
  },
  {
   "cell_type": "code",
   "execution_count": 16,
   "metadata": {},
   "outputs": [],
   "source": [
    "response = chain.invoke({\"context\": context, \"input\": query})"
   ]
  },
  {
   "cell_type": "code",
   "execution_count": 17,
   "metadata": {},
   "outputs": [
    {
     "name": "stdout",
     "output_type": "stream",
     "text": [
      "content=\"Based on the provided context, sleeping at 2am can have several negative effects on your health. Since you're 22 years old, you're considered an adolescent, and research suggests that adolescents who sleep late and sleep too little are at risk of various health problems.\\n\\nSome potential effects of your sleep pattern on your health include:\\n\\n1. **Depression**: Sleeping late and sleeping too little can increase the risk of depression. In fact, research suggests that sleep problems can arise before depression does.\\n2. **Obesity and metabolic disorders**: Irregular sleep patterns can disrupt your body's natural rhythms, leading to weight gain, obesity, and metabolic disorders.\\n3. **Cognitive performance and academic achievement**: Sleeping late can impair your cognitive abilities, leading to poor academic performance, and lower general cognitive ability.\\n4. **Aggression and conduct problems**: Irregular sleep patterns have been linked to aggression, conduct problems, and defiant attitudes.\\n5. **Cardiovascular risk**: Chronic sleep restriction can increase the risk of cardiovascular disease, including high blood pressure, high cholesterol, and cardiovascular events.\\n6. **Immune system suppression**: Sleep deprivation can weaken your immune system, making you more susceptible to illnesses.\\n7. **Mood disturbances**: Sleeping late can lead to nervous mood, irritability, and anxiety.\\n\\nIt's essential to establish a consistent sleep schedule, aiming for 7-9 hours of sleep each night, to help mitigate these potential health risks. Consider setting a bedtime routine, creating a sleep-conducive environment, and avoiding stimulating activities before bedtime to improve the quality of your sleep.\" additional_kwargs={} response_metadata={'token_usage': {'completion_tokens': 321, 'prompt_tokens': 5106, 'total_tokens': 5427, 'completion_time': 0.983005043, 'prompt_time': 0.31097809, 'queue_time': 0.0061706310000000375, 'total_time': 1.293983133}, 'model_name': 'llama3-70b-8192', 'system_fingerprint': 'fp_2f30b0b571', 'finish_reason': 'stop', 'logprobs': None} id='run-ba08d662-41ac-45fe-9edf-a1c7be4f263b-0' usage_metadata={'input_tokens': 5106, 'output_tokens': 321, 'total_tokens': 5427}\n"
     ]
    }
   ],
   "source": [
    "print(response)"
   ]
  },
  {
   "cell_type": "code",
   "execution_count": null,
   "metadata": {},
   "outputs": [],
   "source": [
    "  "
   ]
  }
 ],
 "metadata": {
  "kernelspec": {
   "display_name": "chatbots",
   "language": "python",
   "name": "python3"
  },
  "language_info": {
   "codemirror_mode": {
    "name": "ipython",
    "version": 3
   },
   "file_extension": ".py",
   "mimetype": "text/x-python",
   "name": "python",
   "nbconvert_exporter": "python",
   "pygments_lexer": "ipython3",
   "version": "3.11.9"
  }
 },
 "nbformat": 4,
 "nbformat_minor": 2
}
