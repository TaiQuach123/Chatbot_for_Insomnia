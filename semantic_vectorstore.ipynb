{
 "cells": [
  {
   "cell_type": "code",
   "execution_count": 1,
   "metadata": {},
   "outputs": [
    {
     "name": "stderr",
     "output_type": "stream",
     "text": [
      "/home/taiquach123471/anaconda3/envs/chatbots/lib/python3.11/site-packages/tqdm/auto.py:21: TqdmWarning: IProgress not found. Please update jupyter and ipywidgets. See https://ipywidgets.readthedocs.io/en/stable/user_install.html\n",
      "  from .autonotebook import tqdm as notebook_tqdm\n"
     ]
    }
   ],
   "source": [
    "from utils.semantic_chunking import create_semantic_chunks_from_directory_with_overlap, reformat_semantic_chunks_with_overlap\n",
    "from utils.utils import batch_iterator, convert_defaultdict\n",
    "from qdrant_client import QdrantClient, models\n",
    "\n",
    "import torch\n",
    "from semantic_encoder import BGEM3FlagEmbedEncoder\n",
    "from FlagEmbedding import BGEM3FlagModel"
   ]
  },
  {
   "cell_type": "code",
   "execution_count": 2,
   "metadata": {},
   "outputs": [],
   "source": [
    "client = QdrantClient(\"http://localhost:6333\")"
   ]
  },
  {
   "cell_type": "code",
   "execution_count": 3,
   "metadata": {},
   "outputs": [],
   "source": [
    "#Creating vectorstore (if not exist)\n",
    "if not client.collection_exists(collection_name=\"semantic_vectorstore\"):\n",
    "    client.create_collection(\n",
    "        \"semantic_vectorstore\",\n",
    "        vectors_config={\n",
    "            \"dense\": models.VectorParams(\n",
    "                size=1024,\n",
    "                distance=models.Distance.COSINE\n",
    "            ),\n",
    "            \"colbert\": models.VectorParams(\n",
    "                size=1024,\n",
    "                distance=models.Distance.COSINE,\n",
    "                multivector_config=models.MultiVectorConfig(\n",
    "                    comparator=models.MultiVectorComparator.MAX_SIM,\n",
    "                )\n",
    "            ),\n",
    "        },\n",
    "        sparse_vectors_config={\n",
    "            \"sparse\": models.SparseVectorParams()\n",
    "        }\n",
    "    )"
   ]
  },
  {
   "cell_type": "code",
   "execution_count": 4,
   "metadata": {},
   "outputs": [
    {
     "name": "stderr",
     "output_type": "stream",
     "text": [
      "Fetching 30 files: 100%|██████████| 30/30 [00:00<00:00, 80867.04it/s]\n",
      "/home/taiquach123471/anaconda3/envs/chatbots/lib/python3.11/site-packages/FlagEmbedding/BGE_M3/modeling.py:335: FutureWarning: You are using `torch.load` with `weights_only=False` (the current default value), which uses the default pickle module implicitly. It is possible to construct malicious pickle data which will execute arbitrary code during unpickling (See https://github.com/pytorch/pytorch/blob/main/SECURITY.md#untrusted-models for more details). In a future release, the default value for `weights_only` will be flipped to `True`. This limits the functions that could be executed during unpickling. Arbitrary objects will no longer be allowed to be loaded via this mode unless they are explicitly allowlisted by the user via `torch.serialization.add_safe_globals`. We recommend you start setting `weights_only=True` for any use case where you don't have full control of the loaded file. Please open an issue on GitHub for any issues related to this experimental feature.\n",
      "  colbert_state_dict = torch.load(os.path.join(model_dir, 'colbert_linear.pt'), map_location='cpu')\n",
      "/home/taiquach123471/anaconda3/envs/chatbots/lib/python3.11/site-packages/FlagEmbedding/BGE_M3/modeling.py:336: FutureWarning: You are using `torch.load` with `weights_only=False` (the current default value), which uses the default pickle module implicitly. It is possible to construct malicious pickle data which will execute arbitrary code during unpickling (See https://github.com/pytorch/pytorch/blob/main/SECURITY.md#untrusted-models for more details). In a future release, the default value for `weights_only` will be flipped to `True`. This limits the functions that could be executed during unpickling. Arbitrary objects will no longer be allowed to be loaded via this mode unless they are explicitly allowlisted by the user via `torch.serialization.add_safe_globals`. We recommend you start setting `weights_only=True` for any use case where you don't have full control of the loaded file. Please open an issue on GitHub for any issues related to this experimental feature.\n",
      "  sparse_state_dict = torch.load(os.path.join(model_dir, 'sparse_linear.pt'), map_location='cpu')\n"
     ]
    }
   ],
   "source": [
    "embeddings = BGEM3FlagEmbedEncoder()"
   ]
  },
  {
   "cell_type": "code",
   "execution_count": 5,
   "metadata": {},
   "outputs": [
    {
     "name": "stderr",
     "output_type": "stream",
     "text": [
      "\u001b[32m2024-09-25 16:43:22 INFO semantic_chunkers.utils.logger Single document exceeds the maximum token limit of 700. Splitting to sentences before semantically merging.\u001b[0m\n",
      "100%|██████████| 7/7 [00:12<00:00,  1.72s/it]\n",
      "\u001b[32m2024-09-25 16:43:34 INFO semantic_chunkers.utils.logger Single document exceeds the maximum token limit of 700. Splitting to sentences before semantically merging.\u001b[0m\n",
      "100%|██████████| 10/10 [00:16<00:00,  1.67s/it]\n",
      "\u001b[32m2024-09-25 16:43:51 INFO semantic_chunkers.utils.logger Single document exceeds the maximum token limit of 700. Splitting to sentences before semantically merging.\u001b[0m\n",
      "100%|██████████| 8/8 [00:17<00:00,  2.19s/it]\n",
      "\u001b[32m2024-09-25 16:44:08 INFO semantic_chunkers.utils.logger Single document exceeds the maximum token limit of 700. Splitting to sentences before semantically merging.\u001b[0m\n",
      "100%|██████████| 20/20 [00:38<00:00,  1.90s/it]\n",
      "\u001b[32m2024-09-25 16:44:47 INFO semantic_chunkers.utils.logger Single document exceeds the maximum token limit of 700. Splitting to sentences before semantically merging.\u001b[0m\n",
      "100%|██████████| 9/9 [00:14<00:00,  1.63s/it]\n",
      "\u001b[32m2024-09-25 16:45:02 INFO semantic_chunkers.utils.logger Single document exceeds the maximum token limit of 700. Splitting to sentences before semantically merging.\u001b[0m\n",
      "100%|██████████| 22/22 [00:33<00:00,  1.53s/it]\n",
      "\u001b[32m2024-09-25 16:45:36 INFO semantic_chunkers.utils.logger Single document exceeds the maximum token limit of 700. Splitting to sentences before semantically merging.\u001b[0m\n",
      "100%|██████████| 8/8 [00:15<00:00,  1.98s/it]\n",
      "\u001b[32m2024-09-25 16:45:52 INFO semantic_chunkers.utils.logger Single document exceeds the maximum token limit of 700. Splitting to sentences before semantically merging.\u001b[0m\n",
      "100%|██████████| 9/9 [00:19<00:00,  2.15s/it]\n",
      "\u001b[32m2024-09-25 16:46:11 INFO semantic_chunkers.utils.logger Single document exceeds the maximum token limit of 700. Splitting to sentences before semantically merging.\u001b[0m\n",
      "100%|██████████| 5/5 [00:12<00:00,  2.53s/it]\n",
      "\u001b[32m2024-09-25 16:46:24 INFO semantic_chunkers.utils.logger Single document exceeds the maximum token limit of 700. Splitting to sentences before semantically merging.\u001b[0m\n",
      "100%|██████████| 7/7 [00:12<00:00,  1.84s/it]\n",
      "\u001b[32m2024-09-25 16:46:37 INFO semantic_chunkers.utils.logger Single document exceeds the maximum token limit of 700. Splitting to sentences before semantically merging.\u001b[0m\n",
      "100%|██████████| 3/3 [00:05<00:00,  1.89s/it]\n",
      "\u001b[32m2024-09-25 16:46:43 INFO semantic_chunkers.utils.logger Single document exceeds the maximum token limit of 700. Splitting to sentences before semantically merging.\u001b[0m\n",
      "100%|██████████| 5/5 [00:11<00:00,  2.38s/it]\n",
      "\u001b[32m2024-09-25 16:46:55 INFO semantic_chunkers.utils.logger Single document exceeds the maximum token limit of 700. Splitting to sentences before semantically merging.\u001b[0m\n",
      "100%|██████████| 22/22 [00:33<00:00,  1.53s/it]\n",
      "\u001b[32m2024-09-25 16:47:28 INFO semantic_chunkers.utils.logger Single document exceeds the maximum token limit of 700. Splitting to sentences before semantically merging.\u001b[0m\n",
      "100%|██████████| 5/5 [00:12<00:00,  2.44s/it]\n",
      "\u001b[32m2024-09-25 16:47:41 INFO semantic_chunkers.utils.logger Single document exceeds the maximum token limit of 700. Splitting to sentences before semantically merging.\u001b[0m\n",
      "100%|██████████| 12/12 [00:34<00:00,  2.86s/it]\n",
      "\u001b[32m2024-09-25 16:48:15 INFO semantic_chunkers.utils.logger Single document exceeds the maximum token limit of 700. Splitting to sentences before semantically merging.\u001b[0m\n",
      "100%|██████████| 6/6 [00:13<00:00,  2.29s/it]\n",
      "\u001b[32m2024-09-25 16:48:29 INFO semantic_chunkers.utils.logger Single document exceeds the maximum token limit of 700. Splitting to sentences before semantically merging.\u001b[0m\n",
      "100%|██████████| 4/4 [00:08<00:00,  2.20s/it]\n",
      "\u001b[32m2024-09-25 16:48:38 INFO semantic_chunkers.utils.logger Single document exceeds the maximum token limit of 700. Splitting to sentences before semantically merging.\u001b[0m\n",
      "100%|██████████| 6/6 [00:16<00:00,  2.83s/it]\n",
      "\u001b[32m2024-09-25 16:48:55 INFO semantic_chunkers.utils.logger Single document exceeds the maximum token limit of 700. Splitting to sentences before semantically merging.\u001b[0m\n",
      "100%|██████████| 8/8 [00:13<00:00,  1.74s/it]\n",
      "\u001b[32m2024-09-25 16:49:09 INFO semantic_chunkers.utils.logger Single document exceeds the maximum token limit of 700. Splitting to sentences before semantically merging.\u001b[0m\n",
      "100%|██████████| 13/13 [00:28<00:00,  2.16s/it]\n",
      "\u001b[32m2024-09-25 16:49:37 INFO semantic_chunkers.utils.logger Single document exceeds the maximum token limit of 700. Splitting to sentences before semantically merging.\u001b[0m\n",
      "100%|██████████| 3/3 [00:05<00:00,  1.92s/it]\n",
      "\u001b[32m2024-09-25 16:49:43 INFO semantic_chunkers.utils.logger Single document exceeds the maximum token limit of 700. Splitting to sentences before semantically merging.\u001b[0m\n",
      "100%|██████████| 4/4 [00:08<00:00,  2.19s/it]\n",
      "\u001b[32m2024-09-25 16:49:52 INFO semantic_chunkers.utils.logger Single document exceeds the maximum token limit of 700. Splitting to sentences before semantically merging.\u001b[0m\n",
      "100%|██████████| 5/5 [00:09<00:00,  1.96s/it]\n",
      "\u001b[32m2024-09-25 16:50:02 INFO semantic_chunkers.utils.logger Single document exceeds the maximum token limit of 700. Splitting to sentences before semantically merging.\u001b[0m\n",
      "100%|██████████| 8/8 [00:14<00:00,  1.82s/it]\n",
      "\u001b[32m2024-09-25 16:50:17 INFO semantic_chunkers.utils.logger Single document exceeds the maximum token limit of 700. Splitting to sentences before semantically merging.\u001b[0m\n",
      "100%|██████████| 8/8 [00:18<00:00,  2.25s/it]\n",
      "\u001b[32m2024-09-25 16:50:35 INFO semantic_chunkers.utils.logger Single document exceeds the maximum token limit of 700. Splitting to sentences before semantically merging.\u001b[0m\n",
      "100%|██████████| 2/2 [00:03<00:00,  1.78s/it]\n",
      "\u001b[32m2024-09-25 16:50:38 INFO semantic_chunkers.utils.logger Single document exceeds the maximum token limit of 700. Splitting to sentences before semantically merging.\u001b[0m\n",
      "100%|██████████| 3/3 [00:04<00:00,  1.63s/it]\n",
      "\u001b[32m2024-09-25 16:50:43 INFO semantic_chunkers.utils.logger Single document exceeds the maximum token limit of 700. Splitting to sentences before semantically merging.\u001b[0m\n",
      "100%|██████████| 10/10 [00:24<00:00,  2.47s/it]\n",
      "\u001b[32m2024-09-25 16:51:08 INFO semantic_chunkers.utils.logger Single document exceeds the maximum token limit of 700. Splitting to sentences before semantically merging.\u001b[0m\n",
      "100%|██████████| 11/11 [00:21<00:00,  1.99s/it]\n",
      "\u001b[32m2024-09-25 16:51:30 INFO semantic_chunkers.utils.logger Single document exceeds the maximum token limit of 700. Splitting to sentences before semantically merging.\u001b[0m\n",
      "100%|██████████| 5/5 [00:11<00:00,  2.28s/it]\n",
      "\u001b[32m2024-09-25 16:51:42 INFO semantic_chunkers.utils.logger Single document exceeds the maximum token limit of 700. Splitting to sentences before semantically merging.\u001b[0m\n",
      "100%|██████████| 5/5 [00:13<00:00,  2.74s/it]\n",
      "\u001b[32m2024-09-25 16:51:56 INFO semantic_chunkers.utils.logger Single document exceeds the maximum token limit of 700. Splitting to sentences before semantically merging.\u001b[0m\n",
      "100%|██████████| 6/6 [00:09<00:00,  1.66s/it]\n",
      "\u001b[32m2024-09-25 16:52:06 INFO semantic_chunkers.utils.logger Single document exceeds the maximum token limit of 700. Splitting to sentences before semantically merging.\u001b[0m\n",
      "100%|██████████| 6/6 [00:12<00:00,  2.10s/it]\n",
      "\u001b[32m2024-09-25 16:52:18 INFO semantic_chunkers.utils.logger Single document exceeds the maximum token limit of 700. Splitting to sentences before semantically merging.\u001b[0m\n",
      "100%|██████████| 4/4 [00:07<00:00,  1.84s/it]\n",
      "\u001b[32m2024-09-25 16:52:26 INFO semantic_chunkers.utils.logger Single document exceeds the maximum token limit of 700. Splitting to sentences before semantically merging.\u001b[0m\n",
      "100%|██████████| 8/8 [00:14<00:00,  1.81s/it]\n",
      "\u001b[32m2024-09-25 16:52:40 INFO semantic_chunkers.utils.logger Single document exceeds the maximum token limit of 700. Splitting to sentences before semantically merging.\u001b[0m\n",
      "100%|██████████| 7/7 [00:13<00:00,  1.97s/it]\n",
      "\u001b[32m2024-09-25 16:52:54 INFO semantic_chunkers.utils.logger Single document exceeds the maximum token limit of 700. Splitting to sentences before semantically merging.\u001b[0m\n",
      "100%|██████████| 4/4 [00:09<00:00,  2.29s/it]\n",
      "\u001b[32m2024-09-25 16:53:04 INFO semantic_chunkers.utils.logger Single document exceeds the maximum token limit of 700. Splitting to sentences before semantically merging.\u001b[0m\n",
      "100%|██████████| 5/5 [00:07<00:00,  1.49s/it]\n",
      "\u001b[32m2024-09-25 16:53:11 INFO semantic_chunkers.utils.logger Single document exceeds the maximum token limit of 700. Splitting to sentences before semantically merging.\u001b[0m\n",
      "100%|██████████| 4/4 [00:08<00:00,  2.12s/it]\n",
      "\u001b[32m2024-09-25 16:53:20 INFO semantic_chunkers.utils.logger Single document exceeds the maximum token limit of 700. Splitting to sentences before semantically merging.\u001b[0m\n",
      "100%|██████████| 6/6 [00:13<00:00,  2.31s/it]\n",
      "\u001b[32m2024-09-25 16:53:34 INFO semantic_chunkers.utils.logger Single document exceeds the maximum token limit of 700. Splitting to sentences before semantically merging.\u001b[0m\n",
      "100%|██████████| 10/10 [00:18<00:00,  1.83s/it]\n",
      "\u001b[32m2024-09-25 16:53:52 INFO semantic_chunkers.utils.logger Single document exceeds the maximum token limit of 700. Splitting to sentences before semantically merging.\u001b[0m\n",
      "100%|██████████| 4/4 [00:09<00:00,  2.42s/it]\n",
      "\u001b[32m2024-09-25 16:54:02 INFO semantic_chunkers.utils.logger Single document exceeds the maximum token limit of 700. Splitting to sentences before semantically merging.\u001b[0m\n",
      "100%|██████████| 4/4 [00:06<00:00,  1.61s/it]\n",
      "\u001b[32m2024-09-25 16:54:08 INFO semantic_chunkers.utils.logger Single document exceeds the maximum token limit of 700. Splitting to sentences before semantically merging.\u001b[0m\n",
      "100%|██████████| 8/8 [00:14<00:00,  1.81s/it]\n",
      "\u001b[32m2024-09-25 16:54:23 INFO semantic_chunkers.utils.logger Single document exceeds the maximum token limit of 700. Splitting to sentences before semantically merging.\u001b[0m\n",
      "100%|██████████| 7/7 [00:12<00:00,  1.81s/it]\n",
      "\u001b[32m2024-09-25 16:54:36 INFO semantic_chunkers.utils.logger Single document exceeds the maximum token limit of 700. Splitting to sentences before semantically merging.\u001b[0m\n",
      "100%|██████████| 7/7 [00:13<00:00,  1.96s/it]\n",
      "\u001b[32m2024-09-25 16:54:50 INFO semantic_chunkers.utils.logger Single document exceeds the maximum token limit of 700. Splitting to sentences before semantically merging.\u001b[0m\n",
      "100%|██████████| 6/6 [00:14<00:00,  2.37s/it]\n",
      "\u001b[32m2024-09-25 16:55:04 INFO semantic_chunkers.utils.logger Single document exceeds the maximum token limit of 700. Splitting to sentences before semantically merging.\u001b[0m\n",
      "100%|██████████| 8/8 [00:22<00:00,  2.80s/it]\n",
      "\u001b[32m2024-09-25 16:55:26 INFO semantic_chunkers.utils.logger Single document exceeds the maximum token limit of 700. Splitting to sentences before semantically merging.\u001b[0m\n",
      "100%|██████████| 10/10 [00:19<00:00,  1.96s/it]\n",
      "\u001b[32m2024-09-25 16:55:46 INFO semantic_chunkers.utils.logger Single document exceeds the maximum token limit of 700. Splitting to sentences before semantically merging.\u001b[0m\n",
      "100%|██████████| 7/7 [00:11<00:00,  1.62s/it]\n",
      "\u001b[32m2024-09-25 16:55:58 INFO semantic_chunkers.utils.logger Single document exceeds the maximum token limit of 700. Splitting to sentences before semantically merging.\u001b[0m\n",
      "100%|██████████| 8/8 [00:15<00:00,  1.91s/it]\n"
     ]
    }
   ],
   "source": [
    "chunks = create_semantic_chunks_from_directory_with_overlap(dir='extracted/TÁC HẠI', encoder=embeddings, overlap=2)"
   ]
  },
  {
   "cell_type": "code",
   "execution_count": 6,
   "metadata": {},
   "outputs": [
    {
     "data": {
      "text/plain": [
       "1607"
      ]
     },
     "execution_count": 6,
     "metadata": {},
     "output_type": "execute_result"
    }
   ],
   "source": [
    "len(chunks)"
   ]
  },
  {
   "cell_type": "code",
   "execution_count": 7,
   "metadata": {},
   "outputs": [
    {
     "name": "stderr",
     "output_type": "stream",
     "text": [
      "Fetching 30 files: 100%|██████████| 30/30 [00:00<00:00, 12078.05it/s]\n",
      "/home/taiquach123471/anaconda3/envs/chatbots/lib/python3.11/site-packages/FlagEmbedding/BGE_M3/modeling.py:335: FutureWarning: You are using `torch.load` with `weights_only=False` (the current default value), which uses the default pickle module implicitly. It is possible to construct malicious pickle data which will execute arbitrary code during unpickling (See https://github.com/pytorch/pytorch/blob/main/SECURITY.md#untrusted-models for more details). In a future release, the default value for `weights_only` will be flipped to `True`. This limits the functions that could be executed during unpickling. Arbitrary objects will no longer be allowed to be loaded via this mode unless they are explicitly allowlisted by the user via `torch.serialization.add_safe_globals`. We recommend you start setting `weights_only=True` for any use case where you don't have full control of the loaded file. Please open an issue on GitHub for any issues related to this experimental feature.\n",
      "  colbert_state_dict = torch.load(os.path.join(model_dir, 'colbert_linear.pt'), map_location='cpu')\n",
      "/home/taiquach123471/anaconda3/envs/chatbots/lib/python3.11/site-packages/FlagEmbedding/BGE_M3/modeling.py:336: FutureWarning: You are using `torch.load` with `weights_only=False` (the current default value), which uses the default pickle module implicitly. It is possible to construct malicious pickle data which will execute arbitrary code during unpickling (See https://github.com/pytorch/pytorch/blob/main/SECURITY.md#untrusted-models for more details). In a future release, the default value for `weights_only` will be flipped to `True`. This limits the functions that could be executed during unpickling. Arbitrary objects will no longer be allowed to be loaded via this mode unless they are explicitly allowlisted by the user via `torch.serialization.add_safe_globals`. We recommend you start setting `weights_only=True` for any use case where you don't have full control of the loaded file. Please open an issue on GitHub for any issues related to this experimental feature.\n",
      "  sparse_state_dict = torch.load(os.path.join(model_dir, 'sparse_linear.pt'), map_location='cpu')\n"
     ]
    }
   ],
   "source": [
    "embeddings = BGEM3FlagModel('BAAI/bge-m3', use_fp16=True)\n",
    "torch.cuda.empty_cache()"
   ]
  },
  {
   "cell_type": "code",
   "execution_count": null,
   "metadata": {},
   "outputs": [],
   "source": [
    "batch_size = 8\n",
    "for batch in batch_iterator(chunks, batch_size):\n",
    "    text = [(chunk.metadata['Title'] + '\\n' + chunk.metadata['Summary'] + '\\n\\n' + 'Chunk of Text:\\n' + chunk.page_content) for chunk in batch]\n",
    "    res = embeddings.encode(text, return_sparse=True, return_colbert_vecs=True)\n",
    "\n",
    "    for i, _ in enumerate(batch):\n",
    "        doc_id = batch[i].metadata['doc_id']\n",
    "        title = batch[i].metadata['Title']\n",
    "        summary = batch[i].metadata['Summary']\n",
    "        source = batch[i].metadata['source']\n",
    "        content = batch[i].page_content\n",
    "        try:\n",
    "            client.upload_points(\n",
    "                \"semantic_vectorstore\",\n",
    "                points = [\n",
    "                    models.PointStruct(\n",
    "                        id = doc_id,\n",
    "                        vector = {\n",
    "                            \"dense\": res['dense_vecs'][i].tolist(),\n",
    "                            \"colbert\": res['colbert_vecs'][i].tolist(),\n",
    "                            \"sparse\": convert_defaultdict(res['lexical_weights'][i])\n",
    "                        },\n",
    "                        payload = {\n",
    "                            \"doc_id\": doc_id,\n",
    "                            \"title\": title,\n",
    "                            \"summary\": summary,\n",
    "                            \"source\": source,\n",
    "                            \"content\": content,\n",
    "                        }\n",
    "\n",
    "                    )\n",
    "                ],\n",
    "                batch_size=1\n",
    "            )\n",
    "        except:\n",
    "            print(f\"Error when uploading - {doc_id}\")\n",
    "            continue\n"
   ]
  },
  {
   "cell_type": "code",
   "execution_count": 90,
   "metadata": {},
   "outputs": [],
   "source": [
    "embeddings = None\n",
    "torch.cuda.empty_cache()"
   ]
  },
  {
   "cell_type": "code",
   "execution_count": null,
   "metadata": {},
   "outputs": [],
   "source": []
  }
 ],
 "metadata": {
  "kernelspec": {
   "display_name": "chatbots",
   "language": "python",
   "name": "python3"
  },
  "language_info": {
   "codemirror_mode": {
    "name": "ipython",
    "version": 3
   },
   "file_extension": ".py",
   "mimetype": "text/x-python",
   "name": "python",
   "nbconvert_exporter": "python",
   "pygments_lexer": "ipython3",
   "version": "3.11.9"
  }
 },
 "nbformat": 4,
 "nbformat_minor": 2
}
