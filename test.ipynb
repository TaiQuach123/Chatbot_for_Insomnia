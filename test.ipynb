{
 "cells": [
  {
   "cell_type": "code",
   "execution_count": 1,
   "metadata": {},
   "outputs": [
    {
     "data": {
      "text/plain": [
       "['Journal of Sleep Research - 2022 - Felső - Total sleep deprivation decreases saliva ghrelin levels in adolescents.md',\n",
       " 'nihms-1511455.md',\n",
       " 'zns2425.md',\n",
       " 'ijerph-18-12389.md',\n",
       " 's41598-020-60692-1.md',\n",
       " 's44159-022-00074-8.md',\n",
       " 'neu.2014.3559.md',\n",
       " 'nihms431116_high_level.md',\n",
       " 'zsac221.md',\n",
       " 'nrp-4-528.md',\n",
       " 'healthcare-07-00001-v2_high_level.md',\n",
       " 'jcsm.9.5.469_high_level.md',\n",
       " 'nihms-1572063.md',\n",
       " 'main_high_level.md',\n",
       " 'ijerph-20-01444_high_level.md',\n",
       " 'jcsm.9.1.73_high_level.md',\n",
       " 'sleep-26-4-455.md',\n",
       " 'EJ995905_high_level.md',\n",
       " 'aasm.37.11.1799.md',\n",
       " '44159_2022_Article_74.md',\n",
       " 'EJ995905.md',\n",
       " 'nihms-1511455_high_level.md',\n",
       " 'clockssleep-03-00040-v2.md',\n",
       " 'fpsyt-12-622833.md',\n",
       " 'mm6513a1_high_level.md',\n",
       " 'zsac221_high_level.md',\n",
       " 'sleep-28-12-1561.md',\n",
       " 'nihms-1515103.md',\n",
       " 'Journal of Sleep Research - 2016 - Lo - Sleep deprivation increases formation of false memory_high_level.md',\n",
       " 'zsaa280.md',\n",
       " 'mm6703a1_high_level.md',\n",
       " 'zns2425_high_level.md',\n",
       " 'sleep-26-4-455_high_level.md',\n",
       " 'healthcare-07-00001-v2.md',\n",
       " 'JFMPC-12-3075.md',\n",
       " 'mm6513a1.md',\n",
       " 'Social jetlag in health and behavioral research  a systematic review_high_level.md',\n",
       " '44159_2022_Article_74_high_level.md',\n",
       " 'JSR-30-e13190_high_level.md',\n",
       " 'aasm.37.11.1799_high_level.md',\n",
       " 'ppm-ppm0000460.md',\n",
       " 'nrp-4-528_high_level.md',\n",
       " 'ijerph-18-12389_high_level.md',\n",
       " 'clockssleep-03-00040-v2_high_level.md',\n",
       " 'sleep-28-12-1561_high_level.md',\n",
       " 'kjp-34-1-72.md',\n",
       " 'aasm.34.11.1499_high_level.md',\n",
       " 'ppm-ppm0000100.md',\n",
       " 'stoner-et-al-2018-social-jetlag-is-associated-with-adiposity-in-children.md',\n",
       " 'chronic_lack_of_sleep_is_associated_with_increased.1.md',\n",
       " 'neu.2014.3559_high_level.md',\n",
       " 'pone.0181220.md',\n",
       " '41598_2017_Article_3171.md',\n",
       " 'ppm-ppm0000460_high_level.md',\n",
       " 'jcsm.9.1.73.md',\n",
       " 'fpsyt-12-622833_high_level.md',\n",
       " 'srep41678.md',\n",
       " 'sbx103_high_level.md',\n",
       " 'ppm-ppm0000100_high_level.md',\n",
       " '1471-2458-13-1163_high_level.md',\n",
       " 'nihms431116.md',\n",
       " 'JFMPC-12-3075_high_level.md',\n",
       " 's44159-022-00074-8_high_level.md',\n",
       " 'chronic_lack_of_sleep_is_associated_with_increased.1_high_level.md',\n",
       " 'nihms395947.md',\n",
       " 'mm6703a1.md',\n",
       " '1471-2458-13-1163.md',\n",
       " 'nihms395947_high_level.md',\n",
       " 'fpsyg-14-1287735_high_level.md',\n",
       " 'stoner-et-al-2018-social-jetlag-is-associated-with-adiposity-in-children_high_level.md',\n",
       " 'kjp-34-1-72_high_level.md',\n",
       " 'zsaa280_high_level.md',\n",
       " 'JSR-30-e13190.md',\n",
       " 'srep41678_high_level.md',\n",
       " 'jcsm.9.5.469.md',\n",
       " 'aasm.37.2.239.md',\n",
       " 'main.md',\n",
       " '12889_2022_Article_12774.md',\n",
       " 'ijerph-20-01444.md',\n",
       " 'jcsm.9736.md',\n",
       " 'CAIMS_Journal__03.md',\n",
       " 'WJG-25-632_high_level.md',\n",
       " 'nihms41505.md',\n",
       " '12889_2022_Article_12774_high_level.md',\n",
       " 'JCPP-62-28_high_level.md',\n",
       " 'CAIMS_Journal__03_high_level.md',\n",
       " 'sbx103.md',\n",
       " 'nihms-1572063_high_level.md',\n",
       " 'jcsm.9736_high_level.md',\n",
       " 's41598-020-60692-1_high_level.md',\n",
       " 'nihms-1515103_high_level.md',\n",
       " '41598_2017_Article_3171_high_level.md',\n",
       " 'Journal of Sleep Research - 2016 - Lo - Sleep deprivation increases formation of false memory.md',\n",
       " 'WJG-25-632.md',\n",
       " 'aasm.37.2.239_high_level.md',\n",
       " 'JCPP-62-28.md',\n",
       " 'pone.0181220_high_level.md',\n",
       " 'Social jetlag in health and behavioral research  a systematic review.md',\n",
       " 'Journal of Sleep Research - 2022 - Felső - Total sleep deprivation decreases saliva ghrelin levels in adolescents_high_level.md',\n",
       " 'fpsyg-14-1287735.md',\n",
       " 'nihms41505_high_level.md',\n",
       " 'aasm.34.11.1499.md']"
      ]
     },
     "execution_count": 1,
     "metadata": {},
     "output_type": "execute_result"
    }
   ],
   "source": [
    "import os\n",
    "\n",
    "os.listdir('extracted/TÁC HẠI')"
   ]
  },
  {
   "cell_type": "code",
   "execution_count": 2,
   "metadata": {},
   "outputs": [],
   "source": [
    "from qdrant_client import QdrantClient, models\n",
    "client = QdrantClient(\"http://localhost:6333\")"
   ]
  },
  {
   "cell_type": "code",
   "execution_count": 102,
   "metadata": {},
   "outputs": [
    {
     "data": {
      "text/plain": [
       "CountResult(count=1607)"
      ]
     },
     "execution_count": 102,
     "metadata": {},
     "output_type": "execute_result"
    }
   ],
   "source": [
    "client.count('semantic_vectorstore')"
   ]
  },
  {
   "cell_type": "code",
   "execution_count": null,
   "metadata": {},
   "outputs": [],
   "source": []
  }
 ],
 "metadata": {
  "kernelspec": {
   "display_name": "chatbots",
   "language": "python",
   "name": "python3"
  },
  "language_info": {
   "codemirror_mode": {
    "name": "ipython",
    "version": 3
   },
   "file_extension": ".py",
   "mimetype": "text/x-python",
   "name": "python",
   "nbconvert_exporter": "python",
   "pygments_lexer": "ipython3",
   "version": "3.11.9"
  }
 },
 "nbformat": 4,
 "nbformat_minor": 2
}
