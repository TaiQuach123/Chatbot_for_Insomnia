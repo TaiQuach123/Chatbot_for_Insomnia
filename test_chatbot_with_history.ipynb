{
 "cells": [
  {
   "cell_type": "code",
   "execution_count": 1,
   "metadata": {},
   "outputs": [
    {
     "name": "stderr",
     "output_type": "stream",
     "text": [
      "/home/taiquach123471/anaconda3/envs/chatbots/lib/python3.11/site-packages/tqdm/auto.py:21: TqdmWarning: IProgress not found. Please update jupyter and ipywidgets. See https://ipywidgets.readthedocs.io/en/stable/user_install.html\n",
      "  from .autonotebook import tqdm as notebook_tqdm\n"
     ]
    }
   ],
   "source": [
    "from qdrant_client import QdrantClient, models\n",
    "from FlagEmbedding import BGEM3FlagModel\n",
    "from langchain_groq import ChatGroq\n",
    "from langchain_core.prompts import ChatPromptTemplate, MessagesPlaceholder\n",
    "from langchain_core.messages import HumanMessage\n",
    "from langchain_core.chat_history import InMemoryChatMessageHistory, BaseChatMessageHistory\n",
    "from langchain_core.runnables.history import RunnableWithMessageHistory\n",
    "from langchain_core.output_parsers import StrOutputParser\n",
    "from langchain_core.documents import Document\n",
    "from utils.utils import convert_defaultdict, format_docs"
   ]
  },
  {
   "cell_type": "code",
   "execution_count": 2,
   "metadata": {},
   "outputs": [
    {
     "data": {
      "text/plain": [
       "True"
      ]
     },
     "execution_count": 2,
     "metadata": {},
     "output_type": "execute_result"
    }
   ],
   "source": [
    "from dotenv import load_dotenv\n",
    "load_dotenv()"
   ]
  },
  {
   "cell_type": "code",
   "execution_count": 3,
   "metadata": {},
   "outputs": [],
   "source": [
    "def retrieve(query, embeddings, client):\n",
    "    res = embeddings.encode([query], return_sparse=True, return_colbert_vecs=True)\n",
    "    result = client.query_points(\n",
    "        \"semantic_summary_vectorstore\",\n",
    "        prefetch=[\n",
    "            models.Prefetch(\n",
    "                query=res['dense_vecs'][0],\n",
    "                using=\"dense\",\n",
    "                limit=20\n",
    "            ),\n",
    "            models.Prefetch(\n",
    "                query=models.SparseVector(**convert_defaultdict(res['lexical_weights'][0])),\n",
    "                using=\"sparse\",\n",
    "                limit=20\n",
    "            ),\n",
    "            models.Prefetch(\n",
    "                query=res['colbert_vecs'][0],\n",
    "                using='colbert',\n",
    "                limit=20\n",
    "            )\n",
    "        ],\n",
    "        query=models.FusionQuery(\n",
    "            fusion=models.Fusion.RRF,\n",
    "        ),\n",
    "        limit=10\n",
    "    )\n",
    "\n",
    "    relevant_docs = []\n",
    "    for point in result.points:\n",
    "        doc = client.scroll(\n",
    "            collection_name=\"semantic_original\",\n",
    "            scroll_filter=models.Filter(\n",
    "                must=[\n",
    "                    models.FieldCondition(\n",
    "                        key=\"doc_id\",\n",
    "                        match=models.MatchValue(value=point.id)\n",
    "                    )\n",
    "                ]\n",
    "            )\n",
    "        )\n",
    "\n",
    "        temp_payload = doc[0][0].payload\n",
    "        res_doc = Document(page_content=temp_payload['page_content'], metadata={'source':temp_payload['source'], 'doc_id': temp_payload['doc_id'], 'title': temp_payload['title']})\n",
    "        relevant_docs.append(res_doc)\n",
    "    \n",
    "    \n",
    "    return relevant_docs"
   ]
  },
  {
   "cell_type": "code",
   "execution_count": 4,
   "metadata": {},
   "outputs": [
    {
     "name": "stderr",
     "output_type": "stream",
     "text": [
      "Fetching 30 files: 100%|██████████| 30/30 [00:00<00:00, 17452.03it/s]\n",
      "/home/taiquach123471/anaconda3/envs/chatbots/lib/python3.11/site-packages/FlagEmbedding/BGE_M3/modeling.py:335: FutureWarning: You are using `torch.load` with `weights_only=False` (the current default value), which uses the default pickle module implicitly. It is possible to construct malicious pickle data which will execute arbitrary code during unpickling (See https://github.com/pytorch/pytorch/blob/main/SECURITY.md#untrusted-models for more details). In a future release, the default value for `weights_only` will be flipped to `True`. This limits the functions that could be executed during unpickling. Arbitrary objects will no longer be allowed to be loaded via this mode unless they are explicitly allowlisted by the user via `torch.serialization.add_safe_globals`. We recommend you start setting `weights_only=True` for any use case where you don't have full control of the loaded file. Please open an issue on GitHub for any issues related to this experimental feature.\n",
      "  colbert_state_dict = torch.load(os.path.join(model_dir, 'colbert_linear.pt'), map_location='cpu')\n",
      "/home/taiquach123471/anaconda3/envs/chatbots/lib/python3.11/site-packages/FlagEmbedding/BGE_M3/modeling.py:336: FutureWarning: You are using `torch.load` with `weights_only=False` (the current default value), which uses the default pickle module implicitly. It is possible to construct malicious pickle data which will execute arbitrary code during unpickling (See https://github.com/pytorch/pytorch/blob/main/SECURITY.md#untrusted-models for more details). In a future release, the default value for `weights_only` will be flipped to `True`. This limits the functions that could be executed during unpickling. Arbitrary objects will no longer be allowed to be loaded via this mode unless they are explicitly allowlisted by the user via `torch.serialization.add_safe_globals`. We recommend you start setting `weights_only=True` for any use case where you don't have full control of the loaded file. Please open an issue on GitHub for any issues related to this experimental feature.\n",
      "  sparse_state_dict = torch.load(os.path.join(model_dir, 'sparse_linear.pt'), map_location='cpu')\n"
     ]
    }
   ],
   "source": [
    "client = QdrantClient(\"http://localhost:6333\")\n",
    "llm = ChatGroq(model=\"llama3-70b-8192\")\n",
    "embeddings = BGEM3FlagModel('BAAI/bge-m3', use_fp16=True)"
   ]
  },
  {
   "cell_type": "code",
   "execution_count": 67,
   "metadata": {},
   "outputs": [],
   "source": [
    "store = {}\n",
    "\n",
    "def get_session_history(session_id: str) -> BaseChatMessageHistory:\n",
    "    if session_id not in store:\n",
    "        store[session_id] = InMemoryChatMessageHistory()\n",
    "    return store[session_id]"
   ]
  },
  {
   "cell_type": "code",
   "execution_count": 68,
   "metadata": {},
   "outputs": [],
   "source": [
    "session_id = \"first_chat\"\n",
    "config = {\"configurable\": {\"session_id\": session_id}}"
   ]
  },
  {
   "cell_type": "code",
   "execution_count": 69,
   "metadata": {},
   "outputs": [],
   "source": [
    "system_reformulate_prompt = \"\"\"Using the provided chat history (if available) and the most recent user question, reformulate the question into a standalone version that is understandable without the context of the chat history. Only reformulate if necessary; otherwise, return the original question. Your response should only be the reformulated or original question.\"\"\"\n",
    "\n",
    "reformulate_prompt = ChatPromptTemplate.from_messages([\n",
    "    (\"system\", system_reformulate_prompt),\n",
    "    MessagesPlaceholder(\"messages\")\n",
    "])"
   ]
  },
  {
   "cell_type": "code",
   "execution_count": 70,
   "metadata": {},
   "outputs": [],
   "source": [
    "system_prompt = \"\"\"You are an AI chatbot designed to answer questions about insomnia using context retrieved from scientific articles. Your goal is to provide clear, evidence-based responses and practical advice to help users. Following those instructions:\n",
    "\n",
    "1. Use only the information provided with the <context> tags regarding insomnia.\n",
    "2. Provide concise, informative answers.\n",
    "3. If a question is unclear or needs more context, ask the user for clarification.\n",
    "\n",
    "<context>\n",
    "{context}\n",
    "</context>\n",
    "\"\"\"\n",
    "\n",
    "prompt = ChatPromptTemplate.from_messages([\n",
    "    (\"system\", system_prompt),\n",
    "    MessagesPlaceholder(\"messages\"),\n",
    "    (\"human\", \"{query}\")\n",
    "])"
   ]
  },
  {
   "cell_type": "code",
   "execution_count": 71,
   "metadata": {},
   "outputs": [],
   "source": [
    "reformulate_chain = reformulate_prompt | llm | StrOutputParser()\n",
    "final_chain = prompt | llm | StrOutputParser()\n",
    "final_chain_with_memory = RunnableWithMessageHistory(final_chain, get_session_history, input_messages_key=\"query\", history_messages_key=\"messages\")"
   ]
  },
  {
   "cell_type": "code",
   "execution_count": 72,
   "metadata": {},
   "outputs": [],
   "source": [
    "query = \"How does caffeine affect the human body?\"\n",
    "if not store.get(session_id, []):\n",
    "    history = []\n",
    "else:\n",
    "    history = store[session_id].messages\n",
    "\n",
    "reformulate_query = reformulate_chain.invoke({\"messages\": history + [HumanMessage(query)]})"
   ]
  },
  {
   "cell_type": "code",
   "execution_count": 73,
   "metadata": {},
   "outputs": [
    {
     "data": {
      "text/plain": [
       "'How does caffeine affect the human body?'"
      ]
     },
     "execution_count": 73,
     "metadata": {},
     "output_type": "execute_result"
    }
   ],
   "source": [
    "reformulate_query"
   ]
  },
  {
   "cell_type": "code",
   "execution_count": 74,
   "metadata": {},
   "outputs": [],
   "source": [
    "relevant_docs = retrieve(reformulate_query, embeddings=embeddings, client=client)\n",
    "context = format_docs(relevant_docs[:2])"
   ]
  },
  {
   "cell_type": "code",
   "execution_count": 75,
   "metadata": {},
   "outputs": [],
   "source": [
    "chain_with_history = RunnableWithMessageHistory(prompt | llm, get_session_history, history_messages_key=\"messages\", input_messages_key=\"query\")"
   ]
  },
  {
   "cell_type": "code",
   "execution_count": 76,
   "metadata": {},
   "outputs": [
    {
     "data": {
      "text/plain": [
       "AIMessage(content='According to the provided context, caffeine affects the human body in several ways:\\n\\n1. **Blocks adenosine receptors**: Caffeine acts as a competitor of adenosine in its receptors, inhibiting the negative effects of adenosine on neurotransmission, excitation, and pain perception. This leads to an increased release of dopamine, noradrenaline, and glutamate.\\n\\n2. **Increases muscle contraction**: Caffeine induces calcium release from intracellular storages, increasing contractility during submaximal contractions, making it an ergogenic aid in various exercises.\\n\\n3. **Inhibits phosphodiesterases**: Caffeine acts as a nonselective competitive inhibitor of phosphodiesterases, which stimulates lipolysis, but requires very high doses.\\n\\n4. **Affects endothelial function**: Caffeine works as a nitric oxide (NO) stimulator, NO inhibitor, and inhibitor of NO second messenger cyclic guanosine monophosphate (cGMP), influencing endothelial dysfunction and vascular smooth muscle dysfunction.\\n\\n5. **Reduces cerebral blood flow**: Caffeine decreases cerebral blood flow (CBF) and cerebral blood velocity, but despite this, it improves reaction times and alertness.\\n\\nThese effects of caffeine on the human body contribute to its stimulating properties and its use as an ergogenic aid in exercise and sports performance.', additional_kwargs={}, response_metadata={'token_usage': {'completion_tokens': 276, 'prompt_tokens': 1331, 'total_tokens': 1607, 'completion_time': 0.901071604, 'prompt_time': 0.13061669, 'queue_time': 0.005286447999999999, 'total_time': 1.031688294}, 'model_name': 'llama3-70b-8192', 'system_fingerprint': 'fp_87cbfbbc4d', 'finish_reason': 'stop', 'logprobs': None}, id='run-fb8ec463-91cb-4e2d-8cf8-137160928c65-0', usage_metadata={'input_tokens': 1331, 'output_tokens': 276, 'total_tokens': 1607})"
      ]
     },
     "execution_count": 76,
     "metadata": {},
     "output_type": "execute_result"
    }
   ],
   "source": [
    "chain_with_history.invoke({\"query\": query, \"context\": context}, config=config)"
   ]
  },
  {
   "cell_type": "code",
   "execution_count": 77,
   "metadata": {},
   "outputs": [
    {
     "data": {
      "text/plain": [
       "[HumanMessage(content='How does caffeine affect the human body?', additional_kwargs={}, response_metadata={}),\n",
       " AIMessage(content='According to the provided context, caffeine affects the human body in several ways:\\n\\n1. **Blocks adenosine receptors**: Caffeine acts as a competitor of adenosine in its receptors, inhibiting the negative effects of adenosine on neurotransmission, excitation, and pain perception. This leads to an increased release of dopamine, noradrenaline, and glutamate.\\n\\n2. **Increases muscle contraction**: Caffeine induces calcium release from intracellular storages, increasing contractility during submaximal contractions, making it an ergogenic aid in various exercises.\\n\\n3. **Inhibits phosphodiesterases**: Caffeine acts as a nonselective competitive inhibitor of phosphodiesterases, which stimulates lipolysis, but requires very high doses.\\n\\n4. **Affects endothelial function**: Caffeine works as a nitric oxide (NO) stimulator, NO inhibitor, and inhibitor of NO second messenger cyclic guanosine monophosphate (cGMP), influencing endothelial dysfunction and vascular smooth muscle dysfunction.\\n\\n5. **Reduces cerebral blood flow**: Caffeine decreases cerebral blood flow (CBF) and cerebral blood velocity, but despite this, it improves reaction times and alertness.\\n\\nThese effects of caffeine on the human body contribute to its stimulating properties and its use as an ergogenic aid in exercise and sports performance.', additional_kwargs={}, response_metadata={'token_usage': {'completion_tokens': 276, 'prompt_tokens': 1331, 'total_tokens': 1607, 'completion_time': 0.901071604, 'prompt_time': 0.13061669, 'queue_time': 0.005286447999999999, 'total_time': 1.031688294}, 'model_name': 'llama3-70b-8192', 'system_fingerprint': 'fp_87cbfbbc4d', 'finish_reason': 'stop', 'logprobs': None}, id='run-fb8ec463-91cb-4e2d-8cf8-137160928c65-0', usage_metadata={'input_tokens': 1331, 'output_tokens': 276, 'total_tokens': 1607})]"
      ]
     },
     "execution_count": 77,
     "metadata": {},
     "output_type": "execute_result"
    }
   ],
   "source": [
    "store['first_chat'].messages\n"
   ]
  },
  {
   "cell_type": "code",
   "execution_count": 78,
   "metadata": {},
   "outputs": [],
   "source": [
    "query = \"Given the impact on the nervous system you mentioned, how would that affect someone with anxiety?\"\n",
    "if not store.get(session_id, []):\n",
    "    history = []\n",
    "else:\n",
    "    history = store[session_id].messages\n",
    "\n",
    "reformulate_query = reformulate_chain.invoke({\"messages\": history + [HumanMessage(query)]})"
   ]
  },
  {
   "cell_type": "code",
   "execution_count": 79,
   "metadata": {},
   "outputs": [
    {
     "data": {
      "text/plain": [
       "'How does caffeine affect someone with anxiety?'"
      ]
     },
     "execution_count": 79,
     "metadata": {},
     "output_type": "execute_result"
    }
   ],
   "source": [
    "reformulate_query"
   ]
  },
  {
   "cell_type": "code",
   "execution_count": null,
   "metadata": {},
   "outputs": [],
   "source": []
  },
  {
   "cell_type": "code",
   "execution_count": 73,
   "metadata": {},
   "outputs": [
    {
     "ename": "KeyError",
     "evalue": "'input'",
     "output_type": "error",
     "traceback": [
      "\u001b[0;31m---------------------------------------------------------------------------\u001b[0m",
      "\u001b[0;31mKeyError\u001b[0m                                  Traceback (most recent call last)",
      "Cell \u001b[0;32mIn[73], line 1\u001b[0m\n\u001b[0;32m----> 1\u001b[0m response \u001b[38;5;241m=\u001b[39m \u001b[43mfinal_chain_with_memory\u001b[49m\u001b[38;5;241;43m.\u001b[39;49m\u001b[43minvoke\u001b[49m\u001b[43m(\u001b[49m\u001b[38;5;28;43minput\u001b[39;49m\u001b[38;5;241;43m=\u001b[39;49m\u001b[43m{\u001b[49m\u001b[38;5;124;43m\"\u001b[39;49m\u001b[38;5;124;43mcontext\u001b[39;49m\u001b[38;5;124;43m\"\u001b[39;49m\u001b[43m:\u001b[49m\u001b[43m \u001b[49m\u001b[43mcontext\u001b[49m\u001b[43m,\u001b[49m\u001b[43m \u001b[49m\u001b[38;5;124;43m\"\u001b[39;49m\u001b[38;5;124;43mhistory\u001b[39;49m\u001b[38;5;124;43m\"\u001b[39;49m\u001b[43m:\u001b[49m\u001b[43m \u001b[49m\u001b[43mquery\u001b[49m\u001b[43m}\u001b[49m\u001b[43m,\u001b[49m\u001b[43m \u001b[49m\u001b[43mconfig\u001b[49m\u001b[38;5;241;43m=\u001b[39;49m\u001b[43mconfig\u001b[49m\u001b[43m)\u001b[49m\n",
      "File \u001b[0;32m~/anaconda3/envs/chatbots/lib/python3.11/site-packages/langchain_core/runnables/base.py:5313\u001b[0m, in \u001b[0;36mRunnableBindingBase.invoke\u001b[0;34m(self, input, config, **kwargs)\u001b[0m\n\u001b[1;32m   5307\u001b[0m \u001b[38;5;28;01mdef\u001b[39;00m \u001b[38;5;21minvoke\u001b[39m(\n\u001b[1;32m   5308\u001b[0m     \u001b[38;5;28mself\u001b[39m,\n\u001b[1;32m   5309\u001b[0m     \u001b[38;5;28minput\u001b[39m: Input,\n\u001b[1;32m   5310\u001b[0m     config: Optional[RunnableConfig] \u001b[38;5;241m=\u001b[39m \u001b[38;5;28;01mNone\u001b[39;00m,\n\u001b[1;32m   5311\u001b[0m     \u001b[38;5;241m*\u001b[39m\u001b[38;5;241m*\u001b[39mkwargs: Optional[Any],\n\u001b[1;32m   5312\u001b[0m ) \u001b[38;5;241m-\u001b[39m\u001b[38;5;241m>\u001b[39m Output:\n\u001b[0;32m-> 5313\u001b[0m     \u001b[38;5;28;01mreturn\u001b[39;00m \u001b[38;5;28;43mself\u001b[39;49m\u001b[38;5;241;43m.\u001b[39;49m\u001b[43mbound\u001b[49m\u001b[38;5;241;43m.\u001b[39;49m\u001b[43minvoke\u001b[49m\u001b[43m(\u001b[49m\n\u001b[1;32m   5314\u001b[0m \u001b[43m        \u001b[49m\u001b[38;5;28;43minput\u001b[39;49m\u001b[43m,\u001b[49m\n\u001b[1;32m   5315\u001b[0m \u001b[43m        \u001b[49m\u001b[38;5;28;43mself\u001b[39;49m\u001b[38;5;241;43m.\u001b[39;49m\u001b[43m_merge_configs\u001b[49m\u001b[43m(\u001b[49m\u001b[43mconfig\u001b[49m\u001b[43m)\u001b[49m\u001b[43m,\u001b[49m\n\u001b[1;32m   5316\u001b[0m \u001b[43m        \u001b[49m\u001b[38;5;241;43m*\u001b[39;49m\u001b[38;5;241;43m*\u001b[39;49m\u001b[43m{\u001b[49m\u001b[38;5;241;43m*\u001b[39;49m\u001b[38;5;241;43m*\u001b[39;49m\u001b[38;5;28;43mself\u001b[39;49m\u001b[38;5;241;43m.\u001b[39;49m\u001b[43mkwargs\u001b[49m\u001b[43m,\u001b[49m\u001b[43m \u001b[49m\u001b[38;5;241;43m*\u001b[39;49m\u001b[38;5;241;43m*\u001b[39;49m\u001b[43mkwargs\u001b[49m\u001b[43m}\u001b[49m\u001b[43m,\u001b[49m\n\u001b[1;32m   5317\u001b[0m \u001b[43m    \u001b[49m\u001b[43m)\u001b[49m\n",
      "File \u001b[0;32m~/anaconda3/envs/chatbots/lib/python3.11/site-packages/langchain_core/runnables/base.py:5313\u001b[0m, in \u001b[0;36mRunnableBindingBase.invoke\u001b[0;34m(self, input, config, **kwargs)\u001b[0m\n\u001b[1;32m   5307\u001b[0m \u001b[38;5;28;01mdef\u001b[39;00m \u001b[38;5;21minvoke\u001b[39m(\n\u001b[1;32m   5308\u001b[0m     \u001b[38;5;28mself\u001b[39m,\n\u001b[1;32m   5309\u001b[0m     \u001b[38;5;28minput\u001b[39m: Input,\n\u001b[1;32m   5310\u001b[0m     config: Optional[RunnableConfig] \u001b[38;5;241m=\u001b[39m \u001b[38;5;28;01mNone\u001b[39;00m,\n\u001b[1;32m   5311\u001b[0m     \u001b[38;5;241m*\u001b[39m\u001b[38;5;241m*\u001b[39mkwargs: Optional[Any],\n\u001b[1;32m   5312\u001b[0m ) \u001b[38;5;241m-\u001b[39m\u001b[38;5;241m>\u001b[39m Output:\n\u001b[0;32m-> 5313\u001b[0m     \u001b[38;5;28;01mreturn\u001b[39;00m \u001b[38;5;28;43mself\u001b[39;49m\u001b[38;5;241;43m.\u001b[39;49m\u001b[43mbound\u001b[49m\u001b[38;5;241;43m.\u001b[39;49m\u001b[43minvoke\u001b[49m\u001b[43m(\u001b[49m\n\u001b[1;32m   5314\u001b[0m \u001b[43m        \u001b[49m\u001b[38;5;28;43minput\u001b[39;49m\u001b[43m,\u001b[49m\n\u001b[1;32m   5315\u001b[0m \u001b[43m        \u001b[49m\u001b[38;5;28;43mself\u001b[39;49m\u001b[38;5;241;43m.\u001b[39;49m\u001b[43m_merge_configs\u001b[49m\u001b[43m(\u001b[49m\u001b[43mconfig\u001b[49m\u001b[43m)\u001b[49m\u001b[43m,\u001b[49m\n\u001b[1;32m   5316\u001b[0m \u001b[43m        \u001b[49m\u001b[38;5;241;43m*\u001b[39;49m\u001b[38;5;241;43m*\u001b[39;49m\u001b[43m{\u001b[49m\u001b[38;5;241;43m*\u001b[39;49m\u001b[38;5;241;43m*\u001b[39;49m\u001b[38;5;28;43mself\u001b[39;49m\u001b[38;5;241;43m.\u001b[39;49m\u001b[43mkwargs\u001b[49m\u001b[43m,\u001b[49m\u001b[43m \u001b[49m\u001b[38;5;241;43m*\u001b[39;49m\u001b[38;5;241;43m*\u001b[39;49m\u001b[43mkwargs\u001b[49m\u001b[43m}\u001b[49m\u001b[43m,\u001b[49m\n\u001b[1;32m   5317\u001b[0m \u001b[43m    \u001b[49m\u001b[43m)\u001b[49m\n",
      "File \u001b[0;32m~/anaconda3/envs/chatbots/lib/python3.11/site-packages/langchain_core/runnables/base.py:3011\u001b[0m, in \u001b[0;36mRunnableSequence.invoke\u001b[0;34m(self, input, config, **kwargs)\u001b[0m\n\u001b[1;32m   3009\u001b[0m context\u001b[38;5;241m.\u001b[39mrun(_set_config_context, config)\n\u001b[1;32m   3010\u001b[0m \u001b[38;5;28;01mif\u001b[39;00m i \u001b[38;5;241m==\u001b[39m \u001b[38;5;241m0\u001b[39m:\n\u001b[0;32m-> 3011\u001b[0m     \u001b[38;5;28minput\u001b[39m \u001b[38;5;241m=\u001b[39m \u001b[43mcontext\u001b[49m\u001b[38;5;241;43m.\u001b[39;49m\u001b[43mrun\u001b[49m\u001b[43m(\u001b[49m\u001b[43mstep\u001b[49m\u001b[38;5;241;43m.\u001b[39;49m\u001b[43minvoke\u001b[49m\u001b[43m,\u001b[49m\u001b[43m \u001b[49m\u001b[38;5;28;43minput\u001b[39;49m\u001b[43m,\u001b[49m\u001b[43m \u001b[49m\u001b[43mconfig\u001b[49m\u001b[43m,\u001b[49m\u001b[43m \u001b[49m\u001b[38;5;241;43m*\u001b[39;49m\u001b[38;5;241;43m*\u001b[39;49m\u001b[43mkwargs\u001b[49m\u001b[43m)\u001b[49m\n\u001b[1;32m   3012\u001b[0m \u001b[38;5;28;01melse\u001b[39;00m:\n\u001b[1;32m   3013\u001b[0m     \u001b[38;5;28minput\u001b[39m \u001b[38;5;241m=\u001b[39m context\u001b[38;5;241m.\u001b[39mrun(step\u001b[38;5;241m.\u001b[39minvoke, \u001b[38;5;28minput\u001b[39m, config)\n",
      "File \u001b[0;32m~/anaconda3/envs/chatbots/lib/python3.11/site-packages/langchain_core/runnables/base.py:5313\u001b[0m, in \u001b[0;36mRunnableBindingBase.invoke\u001b[0;34m(self, input, config, **kwargs)\u001b[0m\n\u001b[1;32m   5307\u001b[0m \u001b[38;5;28;01mdef\u001b[39;00m \u001b[38;5;21minvoke\u001b[39m(\n\u001b[1;32m   5308\u001b[0m     \u001b[38;5;28mself\u001b[39m,\n\u001b[1;32m   5309\u001b[0m     \u001b[38;5;28minput\u001b[39m: Input,\n\u001b[1;32m   5310\u001b[0m     config: Optional[RunnableConfig] \u001b[38;5;241m=\u001b[39m \u001b[38;5;28;01mNone\u001b[39;00m,\n\u001b[1;32m   5311\u001b[0m     \u001b[38;5;241m*\u001b[39m\u001b[38;5;241m*\u001b[39mkwargs: Optional[Any],\n\u001b[1;32m   5312\u001b[0m ) \u001b[38;5;241m-\u001b[39m\u001b[38;5;241m>\u001b[39m Output:\n\u001b[0;32m-> 5313\u001b[0m     \u001b[38;5;28;01mreturn\u001b[39;00m \u001b[38;5;28;43mself\u001b[39;49m\u001b[38;5;241;43m.\u001b[39;49m\u001b[43mbound\u001b[49m\u001b[38;5;241;43m.\u001b[39;49m\u001b[43minvoke\u001b[49m\u001b[43m(\u001b[49m\n\u001b[1;32m   5314\u001b[0m \u001b[43m        \u001b[49m\u001b[38;5;28;43minput\u001b[39;49m\u001b[43m,\u001b[49m\n\u001b[1;32m   5315\u001b[0m \u001b[43m        \u001b[49m\u001b[38;5;28;43mself\u001b[39;49m\u001b[38;5;241;43m.\u001b[39;49m\u001b[43m_merge_configs\u001b[49m\u001b[43m(\u001b[49m\u001b[43mconfig\u001b[49m\u001b[43m)\u001b[49m\u001b[43m,\u001b[49m\n\u001b[1;32m   5316\u001b[0m \u001b[43m        \u001b[49m\u001b[38;5;241;43m*\u001b[39;49m\u001b[38;5;241;43m*\u001b[39;49m\u001b[43m{\u001b[49m\u001b[38;5;241;43m*\u001b[39;49m\u001b[38;5;241;43m*\u001b[39;49m\u001b[38;5;28;43mself\u001b[39;49m\u001b[38;5;241;43m.\u001b[39;49m\u001b[43mkwargs\u001b[49m\u001b[43m,\u001b[49m\u001b[43m \u001b[49m\u001b[38;5;241;43m*\u001b[39;49m\u001b[38;5;241;43m*\u001b[39;49m\u001b[43mkwargs\u001b[49m\u001b[43m}\u001b[49m\u001b[43m,\u001b[49m\n\u001b[1;32m   5317\u001b[0m \u001b[43m    \u001b[49m\u001b[43m)\u001b[49m\n",
      "File \u001b[0;32m~/anaconda3/envs/chatbots/lib/python3.11/site-packages/langchain_core/runnables/base.py:4680\u001b[0m, in \u001b[0;36mRunnableLambda.invoke\u001b[0;34m(self, input, config, **kwargs)\u001b[0m\n\u001b[1;32m   4666\u001b[0m \u001b[38;5;250m\u001b[39m\u001b[38;5;124;03m\"\"\"Invoke this Runnable synchronously.\u001b[39;00m\n\u001b[1;32m   4667\u001b[0m \n\u001b[1;32m   4668\u001b[0m \u001b[38;5;124;03mArgs:\u001b[39;00m\n\u001b[0;32m   (...)\u001b[0m\n\u001b[1;32m   4677\u001b[0m \u001b[38;5;124;03m    TypeError: If the Runnable is a coroutine function.\u001b[39;00m\n\u001b[1;32m   4678\u001b[0m \u001b[38;5;124;03m\"\"\"\u001b[39;00m\n\u001b[1;32m   4679\u001b[0m \u001b[38;5;28;01mif\u001b[39;00m \u001b[38;5;28mhasattr\u001b[39m(\u001b[38;5;28mself\u001b[39m, \u001b[38;5;124m\"\u001b[39m\u001b[38;5;124mfunc\u001b[39m\u001b[38;5;124m\"\u001b[39m):\n\u001b[0;32m-> 4680\u001b[0m     \u001b[38;5;28;01mreturn\u001b[39;00m \u001b[38;5;28;43mself\u001b[39;49m\u001b[38;5;241;43m.\u001b[39;49m\u001b[43m_call_with_config\u001b[49m\u001b[43m(\u001b[49m\n\u001b[1;32m   4681\u001b[0m \u001b[43m        \u001b[49m\u001b[38;5;28;43mself\u001b[39;49m\u001b[38;5;241;43m.\u001b[39;49m\u001b[43m_invoke\u001b[49m\u001b[43m,\u001b[49m\n\u001b[1;32m   4682\u001b[0m \u001b[43m        \u001b[49m\u001b[38;5;28;43minput\u001b[39;49m\u001b[43m,\u001b[49m\n\u001b[1;32m   4683\u001b[0m \u001b[43m        \u001b[49m\u001b[38;5;28;43mself\u001b[39;49m\u001b[38;5;241;43m.\u001b[39;49m\u001b[43m_config\u001b[49m\u001b[43m(\u001b[49m\u001b[43mconfig\u001b[49m\u001b[43m,\u001b[49m\u001b[43m \u001b[49m\u001b[38;5;28;43mself\u001b[39;49m\u001b[38;5;241;43m.\u001b[39;49m\u001b[43mfunc\u001b[49m\u001b[43m)\u001b[49m\u001b[43m,\u001b[49m\n\u001b[1;32m   4684\u001b[0m \u001b[43m        \u001b[49m\u001b[38;5;241;43m*\u001b[39;49m\u001b[38;5;241;43m*\u001b[39;49m\u001b[43mkwargs\u001b[49m\u001b[43m,\u001b[49m\n\u001b[1;32m   4685\u001b[0m \u001b[43m    \u001b[49m\u001b[43m)\u001b[49m\n\u001b[1;32m   4686\u001b[0m \u001b[38;5;28;01melse\u001b[39;00m:\n\u001b[1;32m   4687\u001b[0m     \u001b[38;5;28;01mraise\u001b[39;00m \u001b[38;5;167;01mTypeError\u001b[39;00m(\n\u001b[1;32m   4688\u001b[0m         \u001b[38;5;124m\"\u001b[39m\u001b[38;5;124mCannot invoke a coroutine function synchronously.\u001b[39m\u001b[38;5;124m\"\u001b[39m\n\u001b[1;32m   4689\u001b[0m         \u001b[38;5;124m\"\u001b[39m\u001b[38;5;124mUse `ainvoke` instead.\u001b[39m\u001b[38;5;124m\"\u001b[39m\n\u001b[1;32m   4690\u001b[0m     )\n",
      "File \u001b[0;32m~/anaconda3/envs/chatbots/lib/python3.11/site-packages/langchain_core/runnables/base.py:1916\u001b[0m, in \u001b[0;36mRunnable._call_with_config\u001b[0;34m(self, func, input, config, run_type, serialized, **kwargs)\u001b[0m\n\u001b[1;32m   1912\u001b[0m     context \u001b[38;5;241m=\u001b[39m copy_context()\n\u001b[1;32m   1913\u001b[0m     context\u001b[38;5;241m.\u001b[39mrun(_set_config_context, child_config)\n\u001b[1;32m   1914\u001b[0m     output \u001b[38;5;241m=\u001b[39m cast(\n\u001b[1;32m   1915\u001b[0m         Output,\n\u001b[0;32m-> 1916\u001b[0m         \u001b[43mcontext\u001b[49m\u001b[38;5;241;43m.\u001b[39;49m\u001b[43mrun\u001b[49m\u001b[43m(\u001b[49m\n\u001b[1;32m   1917\u001b[0m \u001b[43m            \u001b[49m\u001b[43mcall_func_with_variable_args\u001b[49m\u001b[43m,\u001b[49m\u001b[43m  \u001b[49m\u001b[38;5;66;43;03m# type: ignore[arg-type]\u001b[39;49;00m\n\u001b[1;32m   1918\u001b[0m \u001b[43m            \u001b[49m\u001b[43mfunc\u001b[49m\u001b[43m,\u001b[49m\u001b[43m  \u001b[49m\u001b[38;5;66;43;03m# type: ignore[arg-type]\u001b[39;49;00m\n\u001b[1;32m   1919\u001b[0m \u001b[43m            \u001b[49m\u001b[38;5;28;43minput\u001b[39;49m\u001b[43m,\u001b[49m\u001b[43m  \u001b[49m\u001b[38;5;66;43;03m# type: ignore[arg-type]\u001b[39;49;00m\n\u001b[1;32m   1920\u001b[0m \u001b[43m            \u001b[49m\u001b[43mconfig\u001b[49m\u001b[43m,\u001b[49m\n\u001b[1;32m   1921\u001b[0m \u001b[43m            \u001b[49m\u001b[43mrun_manager\u001b[49m\u001b[43m,\u001b[49m\n\u001b[1;32m   1922\u001b[0m \u001b[43m            \u001b[49m\u001b[38;5;241;43m*\u001b[39;49m\u001b[38;5;241;43m*\u001b[39;49m\u001b[43mkwargs\u001b[49m\u001b[43m,\u001b[49m\n\u001b[1;32m   1923\u001b[0m \u001b[43m        \u001b[49m\u001b[43m)\u001b[49m,\n\u001b[1;32m   1924\u001b[0m     )\n\u001b[1;32m   1925\u001b[0m \u001b[38;5;28;01mexcept\u001b[39;00m \u001b[38;5;167;01mBaseException\u001b[39;00m \u001b[38;5;28;01mas\u001b[39;00m e:\n\u001b[1;32m   1926\u001b[0m     run_manager\u001b[38;5;241m.\u001b[39mon_chain_error(e)\n",
      "File \u001b[0;32m~/anaconda3/envs/chatbots/lib/python3.11/site-packages/langchain_core/runnables/config.py:398\u001b[0m, in \u001b[0;36mcall_func_with_variable_args\u001b[0;34m(func, input, config, run_manager, **kwargs)\u001b[0m\n\u001b[1;32m    396\u001b[0m \u001b[38;5;28;01mif\u001b[39;00m run_manager \u001b[38;5;129;01mis\u001b[39;00m \u001b[38;5;129;01mnot\u001b[39;00m \u001b[38;5;28;01mNone\u001b[39;00m \u001b[38;5;129;01mand\u001b[39;00m accepts_run_manager(func):\n\u001b[1;32m    397\u001b[0m     kwargs[\u001b[38;5;124m\"\u001b[39m\u001b[38;5;124mrun_manager\u001b[39m\u001b[38;5;124m\"\u001b[39m] \u001b[38;5;241m=\u001b[39m run_manager\n\u001b[0;32m--> 398\u001b[0m \u001b[38;5;28;01mreturn\u001b[39;00m \u001b[43mfunc\u001b[49m\u001b[43m(\u001b[49m\u001b[38;5;28;43minput\u001b[39;49m\u001b[43m,\u001b[49m\u001b[43m \u001b[49m\u001b[38;5;241;43m*\u001b[39;49m\u001b[38;5;241;43m*\u001b[39;49m\u001b[43mkwargs\u001b[49m\u001b[43m)\u001b[49m\n",
      "File \u001b[0;32m~/anaconda3/envs/chatbots/lib/python3.11/site-packages/langchain_core/runnables/base.py:4536\u001b[0m, in \u001b[0;36mRunnableLambda._invoke\u001b[0;34m(self, input, run_manager, config, **kwargs)\u001b[0m\n\u001b[1;32m   4534\u001b[0m                 output \u001b[38;5;241m=\u001b[39m chunk\n\u001b[1;32m   4535\u001b[0m \u001b[38;5;28;01melse\u001b[39;00m:\n\u001b[0;32m-> 4536\u001b[0m     output \u001b[38;5;241m=\u001b[39m \u001b[43mcall_func_with_variable_args\u001b[49m\u001b[43m(\u001b[49m\n\u001b[1;32m   4537\u001b[0m \u001b[43m        \u001b[49m\u001b[38;5;28;43mself\u001b[39;49m\u001b[38;5;241;43m.\u001b[39;49m\u001b[43mfunc\u001b[49m\u001b[43m,\u001b[49m\u001b[43m \u001b[49m\u001b[38;5;28;43minput\u001b[39;49m\u001b[43m,\u001b[49m\u001b[43m \u001b[49m\u001b[43mconfig\u001b[49m\u001b[43m,\u001b[49m\u001b[43m \u001b[49m\u001b[43mrun_manager\u001b[49m\u001b[43m,\u001b[49m\u001b[43m \u001b[49m\u001b[38;5;241;43m*\u001b[39;49m\u001b[38;5;241;43m*\u001b[39;49m\u001b[43mkwargs\u001b[49m\n\u001b[1;32m   4538\u001b[0m \u001b[43m    \u001b[49m\u001b[43m)\u001b[49m\n\u001b[1;32m   4539\u001b[0m \u001b[38;5;66;03m# If the output is a Runnable, invoke it\u001b[39;00m\n\u001b[1;32m   4540\u001b[0m \u001b[38;5;28;01mif\u001b[39;00m \u001b[38;5;28misinstance\u001b[39m(output, Runnable):\n",
      "File \u001b[0;32m~/anaconda3/envs/chatbots/lib/python3.11/site-packages/langchain_core/runnables/config.py:398\u001b[0m, in \u001b[0;36mcall_func_with_variable_args\u001b[0;34m(func, input, config, run_manager, **kwargs)\u001b[0m\n\u001b[1;32m    396\u001b[0m \u001b[38;5;28;01mif\u001b[39;00m run_manager \u001b[38;5;129;01mis\u001b[39;00m \u001b[38;5;129;01mnot\u001b[39;00m \u001b[38;5;28;01mNone\u001b[39;00m \u001b[38;5;129;01mand\u001b[39;00m accepts_run_manager(func):\n\u001b[1;32m    397\u001b[0m     kwargs[\u001b[38;5;124m\"\u001b[39m\u001b[38;5;124mrun_manager\u001b[39m\u001b[38;5;124m\"\u001b[39m] \u001b[38;5;241m=\u001b[39m run_manager\n\u001b[0;32m--> 398\u001b[0m \u001b[38;5;28;01mreturn\u001b[39;00m \u001b[43mfunc\u001b[49m\u001b[43m(\u001b[49m\u001b[38;5;28;43minput\u001b[39;49m\u001b[43m,\u001b[49m\u001b[43m \u001b[49m\u001b[38;5;241;43m*\u001b[39;49m\u001b[38;5;241;43m*\u001b[39;49m\u001b[43mkwargs\u001b[49m\u001b[43m)\u001b[49m\n",
      "File \u001b[0;32m~/anaconda3/envs/chatbots/lib/python3.11/site-packages/langchain_core/runnables/history.py:526\u001b[0m, in \u001b[0;36mRunnableWithMessageHistory._enter_history\u001b[0;34m(self, input, config)\u001b[0m\n\u001b[1;32m    521\u001b[0m \u001b[38;5;28;01mif\u001b[39;00m \u001b[38;5;129;01mnot\u001b[39;00m \u001b[38;5;28mself\u001b[39m\u001b[38;5;241m.\u001b[39mhistory_messages_key:\n\u001b[1;32m    522\u001b[0m     \u001b[38;5;66;03m# return all messages\u001b[39;00m\n\u001b[1;32m    523\u001b[0m     input_val \u001b[38;5;241m=\u001b[39m (\n\u001b[1;32m    524\u001b[0m         \u001b[38;5;28minput\u001b[39m \u001b[38;5;28;01mif\u001b[39;00m \u001b[38;5;129;01mnot\u001b[39;00m \u001b[38;5;28mself\u001b[39m\u001b[38;5;241m.\u001b[39minput_messages_key \u001b[38;5;28;01melse\u001b[39;00m \u001b[38;5;28minput\u001b[39m[\u001b[38;5;28mself\u001b[39m\u001b[38;5;241m.\u001b[39minput_messages_key]\n\u001b[1;32m    525\u001b[0m     )\n\u001b[0;32m--> 526\u001b[0m     messages \u001b[38;5;241m+\u001b[39m\u001b[38;5;241m=\u001b[39m \u001b[38;5;28;43mself\u001b[39;49m\u001b[38;5;241;43m.\u001b[39;49m\u001b[43m_get_input_messages\u001b[49m\u001b[43m(\u001b[49m\u001b[43minput_val\u001b[49m\u001b[43m)\u001b[49m\n\u001b[1;32m    527\u001b[0m \u001b[38;5;28;01mreturn\u001b[39;00m messages\n",
      "File \u001b[0;32m~/anaconda3/envs/chatbots/lib/python3.11/site-packages/langchain_core/runnables/history.py:452\u001b[0m, in \u001b[0;36mRunnableWithMessageHistory._get_input_messages\u001b[0;34m(self, input_val)\u001b[0m\n\u001b[1;32m    450\u001b[0m     \u001b[38;5;28;01melse\u001b[39;00m:\n\u001b[1;32m    451\u001b[0m         key \u001b[38;5;241m=\u001b[39m \u001b[38;5;124m\"\u001b[39m\u001b[38;5;124minput\u001b[39m\u001b[38;5;124m\"\u001b[39m\n\u001b[0;32m--> 452\u001b[0m     input_val \u001b[38;5;241m=\u001b[39m \u001b[43minput_val\u001b[49m\u001b[43m[\u001b[49m\u001b[43mkey\u001b[49m\u001b[43m]\u001b[49m\n\u001b[1;32m    454\u001b[0m \u001b[38;5;66;03m# If value is a string, convert to a human message\u001b[39;00m\n\u001b[1;32m    455\u001b[0m \u001b[38;5;28;01mif\u001b[39;00m \u001b[38;5;28misinstance\u001b[39m(input_val, \u001b[38;5;28mstr\u001b[39m):\n",
      "\u001b[0;31mKeyError\u001b[0m: 'input'"
     ]
    }
   ],
   "source": [
    "response = final_chain_with_memory.invoke(input={\"context\": context, \"history\": query}, config=config)"
   ]
  },
  {
   "cell_type": "code",
   "execution_count": 36,
   "metadata": {},
   "outputs": [
    {
     "name": "stdout",
     "output_type": "stream",
     "text": [
      "content=\"The cosine!\\n\\nIn mathematics, the cosine is a fundamental concept in trigonometry. It's one of the three primary trigonometric ratios, along with the sine and tangent.\\n\\nThe cosine of an angle in a right triangle is defined as the ratio of the length of the adjacent side (the side adjacent to the angle) to the length of the hypotenuse (the side opposite the right angle).\\n\\nIn other words, if you have a right triangle with an angle θ (theta), the cosine of θ is:\\n\\ncos(θ) = adjacent side / hypotenuse\\n\\nFor example, if you have a right triangle with an angle of 30 degrees, and the adjacent side is 3 units long, and the hypotenuse is 5 units long, then:\\n\\ncos(30°) = 3/5 = 0.6\\n\\nThe cosine function has many real-world applications, such as:\\n\\n1. Navigation: Cosine is used to calculate distances and directions between locations on the surface of the Earth.\\n2. Physics: Cosine is used to describe the motion of objects in terms of their position, velocity, and acceleration.\\n3. Engineering: Cosine is used in the design of buildings, bridges, and other structures to ensure stability and balance.\\n4. Computer graphics: Cosine is used to create 3D models and animations.\\n\\nThe cosine function has some interesting properties, such as:\\n\\n* The cosine of 0° is 1 (cos(0°) = 1)\\n* The cosine of 90° is 0 (cos(90°) = 0)\\n* The cosine of an angle is equal to the sine of its complementary angle (cos(θ) = sin(90° - θ))\\n\\nI hope this helps you understand what cosine means! Do you have any more questions about trigonometry or math in general?\" additional_kwargs={} response_metadata={'token_usage': {'completion_tokens': 379, 'prompt_tokens': 29, 'total_tokens': 408, 'completion_time': 1.225908892, 'prompt_time': 0.001000619, 'queue_time': 0.014320108, 'total_time': 1.2269095110000001}, 'model_name': 'llama3-70b-8192', 'system_fingerprint': 'fp_87cbfbbc4d', 'finish_reason': 'stop', 'logprobs': None} id='run-ac963063-0b68-4b2c-984a-044bb2858e94-0' usage_metadata={'input_tokens': 29, 'output_tokens': 379, 'total_tokens': 408}\n",
      "{'first_chat': InMemoryChatMessageHistory(messages=[]), 'foo': InMemoryChatMessageHistory(messages=[HumanMessage(content='What does cosine mean?', additional_kwargs={}, response_metadata={}), AIMessage(content=\"The cosine!\\n\\nIn mathematics, the cosine is a fundamental concept in trigonometry. It's one of the three primary trigonometric ratios, along with the sine and tangent.\\n\\nThe cosine of an angle in a right triangle is defined as the ratio of the length of the adjacent side (the side adjacent to the angle) to the length of the hypotenuse (the side opposite the right angle).\\n\\nIn other words, if you have a right triangle with an angle θ (theta), the cosine of θ is:\\n\\ncos(θ) = adjacent side / hypotenuse\\n\\nFor example, if you have a right triangle with an angle of 30 degrees, and the adjacent side is 3 units long, and the hypotenuse is 5 units long, then:\\n\\ncos(30°) = 3/5 = 0.6\\n\\nThe cosine function has many real-world applications, such as:\\n\\n1. Navigation: Cosine is used to calculate distances and directions between locations on the surface of the Earth.\\n2. Physics: Cosine is used to describe the motion of objects in terms of their position, velocity, and acceleration.\\n3. Engineering: Cosine is used in the design of buildings, bridges, and other structures to ensure stability and balance.\\n4. Computer graphics: Cosine is used to create 3D models and animations.\\n\\nThe cosine function has some interesting properties, such as:\\n\\n* The cosine of 0° is 1 (cos(0°) = 1)\\n* The cosine of 90° is 0 (cos(90°) = 0)\\n* The cosine of an angle is equal to the sine of its complementary angle (cos(θ) = sin(90° - θ))\\n\\nI hope this helps you understand what cosine means! Do you have any more questions about trigonometry or math in general?\", additional_kwargs={}, response_metadata={'token_usage': {'completion_tokens': 379, 'prompt_tokens': 29, 'total_tokens': 408, 'completion_time': 1.225908892, 'prompt_time': 0.001000619, 'queue_time': 0.014320108, 'total_time': 1.2269095110000001}, 'model_name': 'llama3-70b-8192', 'system_fingerprint': 'fp_87cbfbbc4d', 'finish_reason': 'stop', 'logprobs': None}, id='run-ac963063-0b68-4b2c-984a-044bb2858e94-0', usage_metadata={'input_tokens': 29, 'output_tokens': 379, 'total_tokens': 408})])}\n",
      "content='The inverse of the cosine function is called the arccosine, or cos^(-1) (pronounced \"inverse cosine\").\\n\\nThe arccosine function takes a value between -1 and 1 and returns the angle in radians (or degrees) whose cosine is that value.\\n\\nIn other words, if you have a value x, the arccosine of x is the angle θ such that:\\n\\ncos(θ) = x\\n\\nThe arccosine function is denoted by cos^(-1) or arccos, and it\\'s often read as \"arc cosine of x\".\\n\\nFor example, if you want to find the angle whose cosine is 0.5, you would use the arccosine function:\\n\\nθ = cos^(-1)(0.5)\\n\\nUsing a calculator or computer, you would find that θ ≈ 60° (or π/3 radians).\\n\\nThe arccosine function is useful in a wide range of applications, such as:\\n\\n1. Solving triangular problems: When you know the length of two sides of a right triangle, you can use the arccosine function to find the angle between them.\\n2. Analyzing periodic phenomena: The arccosine function is used to model periodic phenomena, such as sound waves or electrical signals.\\n3. Computer graphics: The arccosine function is used in computer graphics to perform rotations and transformations of objects.\\n\\nRemember that the arccosine function has a restricted domain, meaning it only accepts values between -1 and 1. If you try to find the arccosine of a value outside this range, you\\'ll get an error or an undefined result.\\n\\nDo you have any more questions about the arccosine function or its applications?' additional_kwargs={} response_metadata={'token_usage': {'completion_tokens': 359, 'prompt_tokens': 421, 'total_tokens': 780, 'completion_time': 1.167948642, 'prompt_time': 0.036998239, 'queue_time': 0.005254871000000001, 'total_time': 1.204946881}, 'model_name': 'llama3-70b-8192', 'system_fingerprint': 'fp_87cbfbbc4d', 'finish_reason': 'stop', 'logprobs': None} id='run-2a63bc9b-f14e-4cf8-a7fb-7ce962dc0659-0' usage_metadata={'input_tokens': 421, 'output_tokens': 359, 'total_tokens': 780}\n",
      "{'first_chat': InMemoryChatMessageHistory(messages=[]), 'foo': InMemoryChatMessageHistory(messages=[HumanMessage(content='What does cosine mean?', additional_kwargs={}, response_metadata={}), AIMessage(content=\"The cosine!\\n\\nIn mathematics, the cosine is a fundamental concept in trigonometry. It's one of the three primary trigonometric ratios, along with the sine and tangent.\\n\\nThe cosine of an angle in a right triangle is defined as the ratio of the length of the adjacent side (the side adjacent to the angle) to the length of the hypotenuse (the side opposite the right angle).\\n\\nIn other words, if you have a right triangle with an angle θ (theta), the cosine of θ is:\\n\\ncos(θ) = adjacent side / hypotenuse\\n\\nFor example, if you have a right triangle with an angle of 30 degrees, and the adjacent side is 3 units long, and the hypotenuse is 5 units long, then:\\n\\ncos(30°) = 3/5 = 0.6\\n\\nThe cosine function has many real-world applications, such as:\\n\\n1. Navigation: Cosine is used to calculate distances and directions between locations on the surface of the Earth.\\n2. Physics: Cosine is used to describe the motion of objects in terms of their position, velocity, and acceleration.\\n3. Engineering: Cosine is used in the design of buildings, bridges, and other structures to ensure stability and balance.\\n4. Computer graphics: Cosine is used to create 3D models and animations.\\n\\nThe cosine function has some interesting properties, such as:\\n\\n* The cosine of 0° is 1 (cos(0°) = 1)\\n* The cosine of 90° is 0 (cos(90°) = 0)\\n* The cosine of an angle is equal to the sine of its complementary angle (cos(θ) = sin(90° - θ))\\n\\nI hope this helps you understand what cosine means! Do you have any more questions about trigonometry or math in general?\", additional_kwargs={}, response_metadata={'token_usage': {'completion_tokens': 379, 'prompt_tokens': 29, 'total_tokens': 408, 'completion_time': 1.225908892, 'prompt_time': 0.001000619, 'queue_time': 0.014320108, 'total_time': 1.2269095110000001}, 'model_name': 'llama3-70b-8192', 'system_fingerprint': 'fp_87cbfbbc4d', 'finish_reason': 'stop', 'logprobs': None}, id='run-ac963063-0b68-4b2c-984a-044bb2858e94-0', usage_metadata={'input_tokens': 29, 'output_tokens': 379, 'total_tokens': 408}), HumanMessage(content=\"What's its inverse\", additional_kwargs={}, response_metadata={}), AIMessage(content='The inverse of the cosine function is called the arccosine, or cos^(-1) (pronounced \"inverse cosine\").\\n\\nThe arccosine function takes a value between -1 and 1 and returns the angle in radians (or degrees) whose cosine is that value.\\n\\nIn other words, if you have a value x, the arccosine of x is the angle θ such that:\\n\\ncos(θ) = x\\n\\nThe arccosine function is denoted by cos^(-1) or arccos, and it\\'s often read as \"arc cosine of x\".\\n\\nFor example, if you want to find the angle whose cosine is 0.5, you would use the arccosine function:\\n\\nθ = cos^(-1)(0.5)\\n\\nUsing a calculator or computer, you would find that θ ≈ 60° (or π/3 radians).\\n\\nThe arccosine function is useful in a wide range of applications, such as:\\n\\n1. Solving triangular problems: When you know the length of two sides of a right triangle, you can use the arccosine function to find the angle between them.\\n2. Analyzing periodic phenomena: The arccosine function is used to model periodic phenomena, such as sound waves or electrical signals.\\n3. Computer graphics: The arccosine function is used in computer graphics to perform rotations and transformations of objects.\\n\\nRemember that the arccosine function has a restricted domain, meaning it only accepts values between -1 and 1. If you try to find the arccosine of a value outside this range, you\\'ll get an error or an undefined result.\\n\\nDo you have any more questions about the arccosine function or its applications?', additional_kwargs={}, response_metadata={'token_usage': {'completion_tokens': 359, 'prompt_tokens': 421, 'total_tokens': 780, 'completion_time': 1.167948642, 'prompt_time': 0.036998239, 'queue_time': 0.005254871000000001, 'total_time': 1.204946881}, 'model_name': 'llama3-70b-8192', 'system_fingerprint': 'fp_87cbfbbc4d', 'finish_reason': 'stop', 'logprobs': None}, id='run-2a63bc9b-f14e-4cf8-a7fb-7ce962dc0659-0', usage_metadata={'input_tokens': 421, 'output_tokens': 359, 'total_tokens': 780})])}\n"
     ]
    }
   ],
   "source": [
    "prompt = ChatPromptTemplate.from_messages([\n",
    "    (\"system\", \"You're an assistant who's good at {ability}\"),\n",
    "    MessagesPlaceholder(variable_name=\"history\"),\n",
    "    (\"human\", \"{question}\"),\n",
    "])\n",
    "\n",
    "chain = prompt | llm\n",
    "\n",
    "chain_with_history = RunnableWithMessageHistory(\n",
    "    chain,\n",
    "    # Uses the get_by_session_id function defined in the example\n",
    "    # above.\n",
    "    get_session_history,\n",
    "    input_messages_key=\"question\",\n",
    "    history_messages_key=\"history\",\n",
    ")\n",
    "\n",
    "print(chain_with_history.invoke(  # noqa: T201\n",
    "    {\"ability\": \"math\", \"question\": \"What does cosine mean?\"},\n",
    "    config={\"configurable\": {\"session_id\": \"foo\"}}\n",
    "))\n",
    "\n",
    "# Uses the store defined in the example above.\n",
    "print(store)  # noqa: T201\n",
    "\n",
    "print(chain_with_history.invoke(  # noqa: T201\n",
    "    {\"ability\": \"math\", \"question\": \"What's its inverse\"},\n",
    "    config={\"configurable\": {\"session_id\": \"foo\"}}\n",
    "))\n",
    "\n",
    "print(store)  # noqa: T201"
   ]
  },
  {
   "cell_type": "code",
   "execution_count": null,
   "metadata": {},
   "outputs": [],
   "source": []
  }
 ],
 "metadata": {
  "kernelspec": {
   "display_name": "chatbots",
   "language": "python",
   "name": "python3"
  },
  "language_info": {
   "codemirror_mode": {
    "name": "ipython",
    "version": 3
   },
   "file_extension": ".py",
   "mimetype": "text/x-python",
   "name": "python",
   "nbconvert_exporter": "python",
   "pygments_lexer": "ipython3",
   "version": "3.11.9"
  }
 },
 "nbformat": 4,
 "nbformat_minor": 2
}
