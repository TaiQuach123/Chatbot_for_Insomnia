{
 "cells": [
  {
   "cell_type": "code",
   "execution_count": 1,
   "metadata": {},
   "outputs": [
    {
     "name": "stderr",
     "output_type": "stream",
     "text": [
      "/home/taiquach123471/anaconda3/envs/chatbots/lib/python3.11/site-packages/tqdm/auto.py:21: TqdmWarning: IProgress not found. Please update jupyter and ipywidgets. See https://ipywidgets.readthedocs.io/en/stable/user_install.html\n",
      "  from .autonotebook import tqdm as notebook_tqdm\n"
     ]
    }
   ],
   "source": [
    "from semantic_encoder import BGEM3FlagEmbedEncoder\n",
    "from utils.semantic_chunking import create_semantic_chunks_from_directory_with_overlap, reformat_semantic_chunks_with_overlap"
   ]
  },
  {
   "cell_type": "code",
   "execution_count": 2,
   "metadata": {},
   "outputs": [
    {
     "name": "stderr",
     "output_type": "stream",
     "text": [
      "Fetching 30 files: 100%|██████████| 30/30 [00:00<00:00, 167103.75it/s]\n",
      "/home/taiquach123471/anaconda3/envs/chatbots/lib/python3.11/site-packages/FlagEmbedding/BGE_M3/modeling.py:335: FutureWarning: You are using `torch.load` with `weights_only=False` (the current default value), which uses the default pickle module implicitly. It is possible to construct malicious pickle data which will execute arbitrary code during unpickling (See https://github.com/pytorch/pytorch/blob/main/SECURITY.md#untrusted-models for more details). In a future release, the default value for `weights_only` will be flipped to `True`. This limits the functions that could be executed during unpickling. Arbitrary objects will no longer be allowed to be loaded via this mode unless they are explicitly allowlisted by the user via `torch.serialization.add_safe_globals`. We recommend you start setting `weights_only=True` for any use case where you don't have full control of the loaded file. Please open an issue on GitHub for any issues related to this experimental feature.\n",
      "  colbert_state_dict = torch.load(os.path.join(model_dir, 'colbert_linear.pt'), map_location='cpu')\n",
      "/home/taiquach123471/anaconda3/envs/chatbots/lib/python3.11/site-packages/FlagEmbedding/BGE_M3/modeling.py:336: FutureWarning: You are using `torch.load` with `weights_only=False` (the current default value), which uses the default pickle module implicitly. It is possible to construct malicious pickle data which will execute arbitrary code during unpickling (See https://github.com/pytorch/pytorch/blob/main/SECURITY.md#untrusted-models for more details). In a future release, the default value for `weights_only` will be flipped to `True`. This limits the functions that could be executed during unpickling. Arbitrary objects will no longer be allowed to be loaded via this mode unless they are explicitly allowlisted by the user via `torch.serialization.add_safe_globals`. We recommend you start setting `weights_only=True` for any use case where you don't have full control of the loaded file. Please open an issue on GitHub for any issues related to this experimental feature.\n",
      "  sparse_state_dict = torch.load(os.path.join(model_dir, 'sparse_linear.pt'), map_location='cpu')\n"
     ]
    }
   ],
   "source": [
    "embedding = BGEM3FlagEmbedEncoder()"
   ]
  },
  {
   "cell_type": "code",
   "execution_count": 3,
   "metadata": {},
   "outputs": [
    {
     "name": "stderr",
     "output_type": "stream",
     "text": [
      "\u001b[32m2024-09-25 16:41:57 INFO semantic_chunkers.utils.logger Single document exceeds the maximum token limit of 700. Splitting to sentences before semantically merging.\u001b[0m\n",
      "100%|██████████| 8/8 [00:13<00:00,  1.67s/it]\n",
      "\u001b[32m2024-09-25 16:42:10 INFO semantic_chunkers.utils.logger Single document exceeds the maximum token limit of 700. Splitting to sentences before semantically merging.\u001b[0m\n",
      "100%|██████████| 6/6 [00:12<00:00,  2.03s/it]\n"
     ]
    }
   ],
   "source": [
    "dir = './test'\n",
    "final_semantic_chunks = create_semantic_chunks_from_directory_with_overlap(dir, embedding, overlap=2)"
   ]
  },
  {
   "cell_type": "code",
   "execution_count": 13,
   "metadata": {},
   "outputs": [
    {
     "name": "stdout",
     "output_type": "stream",
     "text": [
      "{'source': './test/1471-2458-13-1163.md', 'Title': 'Title: Delayed sleep phase syndrome in adolescents: prevalence and correlates in a large population based study', 'Summary': 'Summary: This study investigates the prevalence of Delayed Sleep Phase Syndrome (DSPS) among adolescents and its association with insomnia and school non-attendance. Conducted in Hordaland County, Norway, the research involved 10,220 adolescents aged 16-18 years. The findings revealed a DSPS prevalence of 3.3%, with a higher occurrence in girls (3.7%) compared to boys (2.7%). Notably, over half of the adolescents with DSPS also met the criteria for insomnia. The study highlights significant odds of school non-attendance linked to DSPS, suggesting the need for comprehensive clinical approaches for adolescents exhibiting DSPS symptoms.', 'doc_id': '77b5f8e1-1bed-4a81-9f0b-347ac11c75ac'}\n",
      "----------------------------------------------------------------------------------------------------\n",
      "Elevated symptoms of depression have been demonstrated in this group compared to good sleepers. Still, larger studies using well-defined operationalizations of both DSPS and depression are lacking, and thus the unique associations between DSPS and functional impairment remain unknown.\n",
      "\n",
      "Based on these considerations, the aims of the current study were:\n",
      "1) to estimate the prevalence and sleep characteristic of DSPS in a general population sample of adolescents;\n",
      "2) to examine the overlap between DSPS and insomnia;\n",
      "3) to examine the association between DSPS and non-attendance at school, and if this could be accounted for by co-occurring depression and insomnia; and\n",
      "4) to investigate if there are gender differences in the association between DSPS and non-attendance at school.\n",
      "\n",
      "## Methods\n",
      "\n",
      "### Procedure\n",
      "\n",
      "In this population-based study, we used data from the ung@hordaland-survey of adolescents in the county of Hordaland in Western Norway. All adolescents born between 1993 and 1995 and all students attending secondary education during spring 2012 were invited. \n"
     ]
    }
   ],
   "source": [
    "i = 5\n",
    "print(final_semantic_chunks[i].metadata)\n",
    "print('-'*100)\n",
    "print(final_semantic_chunks[i].page_content)"
   ]
  },
  {
   "cell_type": "code",
   "execution_count": 5,
   "metadata": {},
   "outputs": [
    {
     "name": "stdout",
     "output_type": "stream",
     "text": [
      "{'source': './test/1471-2458-13-1163.md', 'Title': 'Title: Delayed sleep phase syndrome in adolescents: prevalence and correlates in a large population based study', 'Summary': 'Summary: This study investigates the prevalence of Delayed Sleep Phase Syndrome (DSPS) among adolescents and its association with insomnia and school non-attendance. Conducted in Hordaland County, Norway, the research involved 10,220 adolescents aged 16-18 years. The findings revealed a DSPS prevalence of 3.3%, with a higher occurrence in girls (3.7%) compared to boys (2.7%). Notably, over half of the adolescents with DSPS also met the criteria for insomnia. The study highlights significant odds of school non-attendance linked to DSPS, suggesting the need for comprehensive clinical approaches for adolescents exhibiting DSPS symptoms.', 'doc_id': 'e722b0ce-3e5d-4894-ac8c-ce6010b20401'}\n",
      "----------------------------------------------------------------------------------------------------\n",
      "The high prevalence of DSPS, and overlap with insomnia, in combination with the odds of school non-attendance, suggest that a broad and thorough clinical approach is warranted when adolescents present with symptoms of DSPS.\n",
      "\n",
      "**Keywords:** Delayes sleep phase syndrome, Sleep, Prevalence, Correlates, Epidemiology\n",
      "\n",
      "## Background\n",
      "\n",
      "During adolescence a general pattern of delayed bed- times but early risetime due to school obligations renders the sleep duration shorter than both the adolescents themselves and experts deem necessary. The delayed sleep phase is a consequence of a biological delay in the circadian rhythm and a slower build up of sleep pressure that occurs during puberty. Also, social factors, such as reduced parental influence of the adolescents’ sleep patterns, may contribute to this developmental pattern. However, when given the opportunity, the adolescents’ sleep will often be of normal length and in accordance with the individually perceived sleep need. While a delayed sleep onset and rebound sleep during weekends seem to reflect normal developmental patterns occurring frequently in adolescence, for some the mismatch between sleep pattern and social obligations, accompanied by daytime impairment, will be at a level. that meets the diagnostic criteria for Delayed Sleep Phase Syndrome (DSPS)\n",
      "\n",
      "To obtain a diagnosis of DSPS according to the newly published 5th edition of the Diagnostic and Statistical Manual of Mental Disorders (DSM-V), there are three criteria which needs to be met:\n",
      "1) the characteristic misalignment of sleep, in conjunction with\n",
      "2) excessive sleepiness or insomnia and\n",
      "3) significant daytime impairment in social, occupational or other important areas of functioning.\n",
      "\n",
      "According to the DSM-V, the use of sleep diaries or actigraphy is also required. Although, no studies have used these new criteria, two previous studies, surveying the general population with age ranges from adolescence to adults, based their estimates on multi-phased assessments with screening questionnaires, sleep diaries as well as on clinical interviews. \n"
     ]
    }
   ],
   "source": [
    "i = 2\n",
    "print(final_semantic_chunks[i].metadata)\n",
    "print('-'*100)\n",
    "print(final_semantic_chunks[i].page_content)"
   ]
  },
  {
   "cell_type": "code",
   "execution_count": null,
   "metadata": {},
   "outputs": [],
   "source": []
  }
 ],
 "metadata": {
  "kernelspec": {
   "display_name": "chatbots",
   "language": "python",
   "name": "python3"
  },
  "language_info": {
   "codemirror_mode": {
    "name": "ipython",
    "version": 3
   },
   "file_extension": ".py",
   "mimetype": "text/x-python",
   "name": "python",
   "nbconvert_exporter": "python",
   "pygments_lexer": "ipython3",
   "version": "3.11.9"
  }
 },
 "nbformat": 4,
 "nbformat_minor": 2
}
