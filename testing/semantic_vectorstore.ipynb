{
 "cells": [
  {
   "cell_type": "code",
   "execution_count": 1,
   "metadata": {},
   "outputs": [
    {
     "name": "stderr",
     "output_type": "stream",
     "text": [
      "/home/taiquach123471/anaconda3/envs/chatbots/lib/python3.11/site-packages/tqdm/auto.py:21: TqdmWarning: IProgress not found. Please update jupyter and ipywidgets. See https://ipywidgets.readthedocs.io/en/stable/user_install.html\n",
      "  from .autonotebook import tqdm as notebook_tqdm\n"
     ]
    }
   ],
   "source": [
    "from utils.semantic_chunking import create_semantic_chunks_from_directory_with_overlap, reformat_semantic_chunks_with_overlap\n",
    "from utils.utils import batch_iterator, convert_defaultdict\n",
    "from qdrant_client import QdrantClient, models\n",
    "\n",
    "import torch\n",
    "from semantic_encoder import BGEM3FlagEmbedEncoder\n",
    "from FlagEmbedding import BGEM3FlagModel"
   ]
  },
  {
   "cell_type": "code",
   "execution_count": 2,
   "metadata": {},
   "outputs": [],
   "source": [
    "client = QdrantClient(\"http://localhost:6333\")"
   ]
  },
  {
   "cell_type": "code",
   "execution_count": 4,
   "metadata": {},
   "outputs": [],
   "source": [
    "#Creating vectorstore (if not exist)\n",
    "if not client.collection_exists(collection_name=\"semantic_vectorstore\"):\n",
    "    client.create_collection(\n",
    "        \"semantic_vectorstore\",\n",
    "        vectors_config={\n",
    "            \"dense\": models.VectorParams(\n",
    "                size=1024,\n",
    "                distance=models.Distance.COSINE\n",
    "            ),\n",
    "            \"colbert\": models.VectorParams(\n",
    "                size=1024,\n",
    "                distance=models.Distance.COSINE,\n",
    "                multivector_config=models.MultiVectorConfig(\n",
    "                    comparator=models.MultiVectorComparator.MAX_SIM,\n",
    "                )\n",
    "            ),\n",
    "        },\n",
    "        sparse_vectors_config={\n",
    "            \"sparse\": models.SparseVectorParams()\n",
    "        }\n",
    "    )"
   ]
  },
  {
   "cell_type": "code",
   "execution_count": 5,
   "metadata": {},
   "outputs": [
    {
     "name": "stderr",
     "output_type": "stream",
     "text": [
      "Fetching 30 files: 100%|██████████| 30/30 [00:00<00:00, 28932.89it/s]\n",
      "/home/taiquach123471/anaconda3/envs/chatbots/lib/python3.11/site-packages/FlagEmbedding/BGE_M3/modeling.py:335: FutureWarning: You are using `torch.load` with `weights_only=False` (the current default value), which uses the default pickle module implicitly. It is possible to construct malicious pickle data which will execute arbitrary code during unpickling (See https://github.com/pytorch/pytorch/blob/main/SECURITY.md#untrusted-models for more details). In a future release, the default value for `weights_only` will be flipped to `True`. This limits the functions that could be executed during unpickling. Arbitrary objects will no longer be allowed to be loaded via this mode unless they are explicitly allowlisted by the user via `torch.serialization.add_safe_globals`. We recommend you start setting `weights_only=True` for any use case where you don't have full control of the loaded file. Please open an issue on GitHub for any issues related to this experimental feature.\n",
      "  colbert_state_dict = torch.load(os.path.join(model_dir, 'colbert_linear.pt'), map_location='cpu')\n",
      "/home/taiquach123471/anaconda3/envs/chatbots/lib/python3.11/site-packages/FlagEmbedding/BGE_M3/modeling.py:336: FutureWarning: You are using `torch.load` with `weights_only=False` (the current default value), which uses the default pickle module implicitly. It is possible to construct malicious pickle data which will execute arbitrary code during unpickling (See https://github.com/pytorch/pytorch/blob/main/SECURITY.md#untrusted-models for more details). In a future release, the default value for `weights_only` will be flipped to `True`. This limits the functions that could be executed during unpickling. Arbitrary objects will no longer be allowed to be loaded via this mode unless they are explicitly allowlisted by the user via `torch.serialization.add_safe_globals`. We recommend you start setting `weights_only=True` for any use case where you don't have full control of the loaded file. Please open an issue on GitHub for any issues related to this experimental feature.\n",
      "  sparse_state_dict = torch.load(os.path.join(model_dir, 'sparse_linear.pt'), map_location='cpu')\n"
     ]
    }
   ],
   "source": [
    "embeddings = BGEM3FlagEmbedEncoder()"
   ]
  },
  {
   "cell_type": "code",
   "execution_count": 6,
   "metadata": {},
   "outputs": [
    {
     "name": "stderr",
     "output_type": "stream",
     "text": [
      "\u001b[32m2024-09-25 22:08:02 INFO semantic_chunkers.utils.logger Single document exceeds the maximum token limit of 600. Splitting to sentences before semantically merging.\u001b[0m\n",
      "100%|██████████| 7/7 [00:10<00:00,  1.56s/it]\n",
      "\u001b[32m2024-09-25 22:08:13 INFO semantic_chunkers.utils.logger Single document exceeds the maximum token limit of 600. Splitting to sentences before semantically merging.\u001b[0m\n",
      "100%|██████████| 10/10 [00:15<00:00,  1.52s/it]\n",
      "\u001b[32m2024-09-25 22:08:28 INFO semantic_chunkers.utils.logger Single document exceeds the maximum token limit of 600. Splitting to sentences before semantically merging.\u001b[0m\n",
      "100%|██████████| 8/8 [00:14<00:00,  1.79s/it]\n",
      "\u001b[32m2024-09-25 22:08:43 INFO semantic_chunkers.utils.logger Single document exceeds the maximum token limit of 600. Splitting to sentences before semantically merging.\u001b[0m\n",
      "100%|██████████| 20/20 [00:32<00:00,  1.61s/it]\n",
      "\u001b[32m2024-09-25 22:09:15 INFO semantic_chunkers.utils.logger Single document exceeds the maximum token limit of 600. Splitting to sentences before semantically merging.\u001b[0m\n",
      "100%|██████████| 9/9 [00:12<00:00,  1.37s/it]\n",
      "\u001b[32m2024-09-25 22:09:28 INFO semantic_chunkers.utils.logger Single document exceeds the maximum token limit of 600. Splitting to sentences before semantically merging.\u001b[0m\n",
      "100%|██████████| 22/22 [00:28<00:00,  1.30s/it]\n",
      "\u001b[32m2024-09-25 22:09:56 INFO semantic_chunkers.utils.logger Single document exceeds the maximum token limit of 600. Splitting to sentences before semantically merging.\u001b[0m\n",
      "100%|██████████| 8/8 [00:13<00:00,  1.71s/it]\n",
      "\u001b[32m2024-09-25 22:10:10 INFO semantic_chunkers.utils.logger Single document exceeds the maximum token limit of 600. Splitting to sentences before semantically merging.\u001b[0m\n",
      "100%|██████████| 9/9 [00:17<00:00,  1.96s/it]\n",
      "\u001b[32m2024-09-25 22:10:28 INFO semantic_chunkers.utils.logger Single document exceeds the maximum token limit of 600. Splitting to sentences before semantically merging.\u001b[0m\n",
      "100%|██████████| 5/5 [00:11<00:00,  2.39s/it]\n",
      "\u001b[32m2024-09-25 22:10:40 INFO semantic_chunkers.utils.logger Single document exceeds the maximum token limit of 600. Splitting to sentences before semantically merging.\u001b[0m\n",
      "100%|██████████| 7/7 [00:12<00:00,  1.81s/it]\n",
      "\u001b[32m2024-09-25 22:10:53 INFO semantic_chunkers.utils.logger Single document exceeds the maximum token limit of 600. Splitting to sentences before semantically merging.\u001b[0m\n",
      "100%|██████████| 3/3 [00:05<00:00,  1.89s/it]\n",
      "\u001b[32m2024-09-25 22:10:59 INFO semantic_chunkers.utils.logger Single document exceeds the maximum token limit of 600. Splitting to sentences before semantically merging.\u001b[0m\n",
      "100%|██████████| 5/5 [00:11<00:00,  2.38s/it]\n",
      "\u001b[32m2024-09-25 22:11:11 INFO semantic_chunkers.utils.logger Single document exceeds the maximum token limit of 600. Splitting to sentences before semantically merging.\u001b[0m\n",
      "100%|██████████| 22/22 [00:33<00:00,  1.51s/it]\n",
      "\u001b[32m2024-09-25 22:11:44 INFO semantic_chunkers.utils.logger Single document exceeds the maximum token limit of 600. Splitting to sentences before semantically merging.\u001b[0m\n",
      "100%|██████████| 5/5 [00:12<00:00,  2.45s/it]\n",
      "\u001b[32m2024-09-25 22:11:57 INFO semantic_chunkers.utils.logger Single document exceeds the maximum token limit of 600. Splitting to sentences before semantically merging.\u001b[0m\n",
      "100%|██████████| 12/12 [00:34<00:00,  2.85s/it]\n",
      "\u001b[32m2024-09-25 22:12:31 INFO semantic_chunkers.utils.logger Single document exceeds the maximum token limit of 600. Splitting to sentences before semantically merging.\u001b[0m\n",
      "100%|██████████| 6/6 [00:13<00:00,  2.23s/it]\n",
      "\u001b[32m2024-09-25 22:12:45 INFO semantic_chunkers.utils.logger Single document exceeds the maximum token limit of 600. Splitting to sentences before semantically merging.\u001b[0m\n",
      "100%|██████████| 4/4 [00:08<00:00,  2.19s/it]\n",
      "\u001b[32m2024-09-25 22:12:54 INFO semantic_chunkers.utils.logger Single document exceeds the maximum token limit of 600. Splitting to sentences before semantically merging.\u001b[0m\n",
      "100%|██████████| 6/6 [00:17<00:00,  2.84s/it]\n",
      "\u001b[32m2024-09-25 22:13:11 INFO semantic_chunkers.utils.logger Single document exceeds the maximum token limit of 600. Splitting to sentences before semantically merging.\u001b[0m\n",
      "100%|██████████| 8/8 [00:13<00:00,  1.69s/it]\n",
      "\u001b[32m2024-09-25 22:13:24 INFO semantic_chunkers.utils.logger Single document exceeds the maximum token limit of 600. Splitting to sentences before semantically merging.\u001b[0m\n",
      "100%|██████████| 13/13 [00:28<00:00,  2.17s/it]\n",
      "\u001b[32m2024-09-25 22:13:53 INFO semantic_chunkers.utils.logger Single document exceeds the maximum token limit of 600. Splitting to sentences before semantically merging.\u001b[0m\n",
      "100%|██████████| 3/3 [00:05<00:00,  1.90s/it]\n",
      "\u001b[32m2024-09-25 22:13:58 INFO semantic_chunkers.utils.logger Single document exceeds the maximum token limit of 600. Splitting to sentences before semantically merging.\u001b[0m\n",
      "100%|██████████| 4/4 [00:08<00:00,  2.11s/it]\n",
      "\u001b[32m2024-09-25 22:14:07 INFO semantic_chunkers.utils.logger Single document exceeds the maximum token limit of 600. Splitting to sentences before semantically merging.\u001b[0m\n",
      "100%|██████████| 5/5 [00:09<00:00,  1.96s/it]\n",
      "\u001b[32m2024-09-25 22:14:17 INFO semantic_chunkers.utils.logger Single document exceeds the maximum token limit of 600. Splitting to sentences before semantically merging.\u001b[0m\n",
      "100%|██████████| 8/8 [00:14<00:00,  1.80s/it]\n",
      "\u001b[32m2024-09-25 22:14:31 INFO semantic_chunkers.utils.logger Single document exceeds the maximum token limit of 600. Splitting to sentences before semantically merging.\u001b[0m\n",
      "100%|██████████| 8/8 [00:17<00:00,  2.23s/it]\n",
      "\u001b[32m2024-09-25 22:14:49 INFO semantic_chunkers.utils.logger Single document exceeds the maximum token limit of 600. Splitting to sentences before semantically merging.\u001b[0m\n",
      "100%|██████████| 2/2 [00:03<00:00,  1.75s/it]\n",
      "\u001b[32m2024-09-25 22:14:53 INFO semantic_chunkers.utils.logger Single document exceeds the maximum token limit of 600. Splitting to sentences before semantically merging.\u001b[0m\n",
      "100%|██████████| 3/3 [00:04<00:00,  1.63s/it]\n",
      "\u001b[32m2024-09-25 22:14:58 INFO semantic_chunkers.utils.logger Single document exceeds the maximum token limit of 600. Splitting to sentences before semantically merging.\u001b[0m\n",
      "100%|██████████| 10/10 [00:24<00:00,  2.43s/it]\n",
      "\u001b[32m2024-09-25 22:15:22 INFO semantic_chunkers.utils.logger Single document exceeds the maximum token limit of 600. Splitting to sentences before semantically merging.\u001b[0m\n",
      "100%|██████████| 11/11 [00:21<00:00,  1.95s/it]\n",
      "\u001b[32m2024-09-25 22:15:44 INFO semantic_chunkers.utils.logger Single document exceeds the maximum token limit of 600. Splitting to sentences before semantically merging.\u001b[0m\n",
      "100%|██████████| 5/5 [00:11<00:00,  2.28s/it]\n",
      "\u001b[32m2024-09-25 22:15:56 INFO semantic_chunkers.utils.logger Single document exceeds the maximum token limit of 600. Splitting to sentences before semantically merging.\u001b[0m\n",
      "100%|██████████| 5/5 [00:13<00:00,  2.71s/it]\n",
      "\u001b[32m2024-09-25 22:16:09 INFO semantic_chunkers.utils.logger Single document exceeds the maximum token limit of 600. Splitting to sentences before semantically merging.\u001b[0m\n",
      "100%|██████████| 6/6 [00:09<00:00,  1.63s/it]\n",
      "\u001b[32m2024-09-25 22:16:19 INFO semantic_chunkers.utils.logger Single document exceeds the maximum token limit of 600. Splitting to sentences before semantically merging.\u001b[0m\n",
      "100%|██████████| 6/6 [00:11<00:00,  1.97s/it]\n",
      "\u001b[32m2024-09-25 22:16:31 INFO semantic_chunkers.utils.logger Single document exceeds the maximum token limit of 600. Splitting to sentences before semantically merging.\u001b[0m\n",
      "100%|██████████| 4/4 [00:06<00:00,  1.75s/it]\n",
      "\u001b[32m2024-09-25 22:16:38 INFO semantic_chunkers.utils.logger Single document exceeds the maximum token limit of 600. Splitting to sentences before semantically merging.\u001b[0m\n",
      "100%|██████████| 8/8 [00:14<00:00,  1.76s/it]\n",
      "\u001b[32m2024-09-25 22:16:52 INFO semantic_chunkers.utils.logger Single document exceeds the maximum token limit of 600. Splitting to sentences before semantically merging.\u001b[0m\n",
      "100%|██████████| 7/7 [00:13<00:00,  1.98s/it]\n",
      "\u001b[32m2024-09-25 22:17:06 INFO semantic_chunkers.utils.logger Single document exceeds the maximum token limit of 600. Splitting to sentences before semantically merging.\u001b[0m\n",
      "100%|██████████| 4/4 [00:08<00:00,  2.24s/it]\n",
      "\u001b[32m2024-09-25 22:17:15 INFO semantic_chunkers.utils.logger Single document exceeds the maximum token limit of 600. Splitting to sentences before semantically merging.\u001b[0m\n",
      "100%|██████████| 5/5 [00:07<00:00,  1.50s/it]\n",
      "\u001b[32m2024-09-25 22:17:23 INFO semantic_chunkers.utils.logger Single document exceeds the maximum token limit of 600. Splitting to sentences before semantically merging.\u001b[0m\n",
      "100%|██████████| 4/4 [00:08<00:00,  2.23s/it]\n",
      "\u001b[32m2024-09-25 22:17:32 INFO semantic_chunkers.utils.logger Single document exceeds the maximum token limit of 600. Splitting to sentences before semantically merging.\u001b[0m\n",
      "100%|██████████| 6/6 [00:13<00:00,  2.24s/it]\n",
      "\u001b[32m2024-09-25 22:17:46 INFO semantic_chunkers.utils.logger Single document exceeds the maximum token limit of 600. Splitting to sentences before semantically merging.\u001b[0m\n",
      "100%|██████████| 10/10 [00:17<00:00,  1.80s/it]\n",
      "\u001b[32m2024-09-25 22:18:04 INFO semantic_chunkers.utils.logger Single document exceeds the maximum token limit of 600. Splitting to sentences before semantically merging.\u001b[0m\n",
      "100%|██████████| 4/4 [00:09<00:00,  2.42s/it]\n",
      "\u001b[32m2024-09-25 22:18:14 INFO semantic_chunkers.utils.logger Single document exceeds the maximum token limit of 600. Splitting to sentences before semantically merging.\u001b[0m\n",
      "100%|██████████| 4/4 [00:06<00:00,  1.69s/it]\n",
      "\u001b[32m2024-09-25 22:18:20 INFO semantic_chunkers.utils.logger Single document exceeds the maximum token limit of 600. Splitting to sentences before semantically merging.\u001b[0m\n",
      "100%|██████████| 8/8 [00:14<00:00,  1.83s/it]\n",
      "\u001b[32m2024-09-25 22:18:35 INFO semantic_chunkers.utils.logger Single document exceeds the maximum token limit of 600. Splitting to sentences before semantically merging.\u001b[0m\n",
      "100%|██████████| 7/7 [00:12<00:00,  1.83s/it]\n",
      "\u001b[32m2024-09-25 22:18:48 INFO semantic_chunkers.utils.logger Single document exceeds the maximum token limit of 600. Splitting to sentences before semantically merging.\u001b[0m\n",
      "100%|██████████| 7/7 [00:12<00:00,  1.81s/it]\n",
      "\u001b[32m2024-09-25 22:19:01 INFO semantic_chunkers.utils.logger Single document exceeds the maximum token limit of 600. Splitting to sentences before semantically merging.\u001b[0m\n",
      "100%|██████████| 6/6 [00:14<00:00,  2.34s/it]\n",
      "\u001b[32m2024-09-25 22:19:15 INFO semantic_chunkers.utils.logger Single document exceeds the maximum token limit of 600. Splitting to sentences before semantically merging.\u001b[0m\n",
      "100%|██████████| 8/8 [00:22<00:00,  2.80s/it]\n",
      "\u001b[32m2024-09-25 22:19:38 INFO semantic_chunkers.utils.logger Single document exceeds the maximum token limit of 600. Splitting to sentences before semantically merging.\u001b[0m\n",
      "100%|██████████| 10/10 [00:19<00:00,  1.96s/it]\n",
      "\u001b[32m2024-09-25 22:19:58 INFO semantic_chunkers.utils.logger Single document exceeds the maximum token limit of 600. Splitting to sentences before semantically merging.\u001b[0m\n",
      "100%|██████████| 7/7 [00:11<00:00,  1.61s/it]\n",
      "\u001b[32m2024-09-25 22:20:09 INFO semantic_chunkers.utils.logger Single document exceeds the maximum token limit of 600. Splitting to sentences before semantically merging.\u001b[0m\n",
      "100%|██████████| 8/8 [00:15<00:00,  1.92s/it]\n"
     ]
    }
   ],
   "source": [
    "chunks = create_semantic_chunks_from_directory_with_overlap(dir='extracted/TÁC HẠI', encoder=embeddings, min_split_tokens=100, max_split_tokens=600, overlap=0)"
   ]
  },
  {
   "cell_type": "code",
   "execution_count": 9,
   "metadata": {},
   "outputs": [
    {
     "data": {
      "text/plain": [
       "1997"
      ]
     },
     "execution_count": 9,
     "metadata": {},
     "output_type": "execute_result"
    }
   ],
   "source": [
    "len(chunks)"
   ]
  },
  {
   "cell_type": "code",
   "execution_count": 10,
   "metadata": {},
   "outputs": [
    {
     "name": "stderr",
     "output_type": "stream",
     "text": [
      "Fetching 30 files: 100%|██████████| 30/30 [00:00<00:00, 68985.26it/s]\n"
     ]
    }
   ],
   "source": [
    "embeddings = BGEM3FlagModel('BAAI/bge-m3', use_fp16=True)\n",
    "torch.cuda.empty_cache()"
   ]
  },
  {
   "cell_type": "code",
   "execution_count": 11,
   "metadata": {},
   "outputs": [],
   "source": [
    "batch_size = 16\n",
    "for batch in batch_iterator(chunks, batch_size):\n",
    "    text = [(chunk.metadata['Title'] + '\\n' + chunk.metadata['Summary'] + '\\n\\n' + 'Chunk of Text:\\n' + chunk.page_content) for chunk in batch]\n",
    "    res = embeddings.encode(text, return_sparse=True, return_colbert_vecs=True, batch_size=16, max_length=1024)\n",
    "\n",
    "    for i, _ in enumerate(batch):\n",
    "        doc_id = batch[i].metadata['doc_id']\n",
    "        title = batch[i].metadata['Title']\n",
    "        summary = batch[i].metadata['Summary']\n",
    "        source = batch[i].metadata['source']\n",
    "        content = batch[i].page_content\n",
    "        try:\n",
    "            client.upload_points(\n",
    "                \"semantic_vectorstore\",\n",
    "                points = [\n",
    "                    models.PointStruct(\n",
    "                        id = doc_id,\n",
    "                        vector = {\n",
    "                            \"dense\": res['dense_vecs'][i].tolist(),\n",
    "                            \"colbert\": res['colbert_vecs'][i].tolist(),\n",
    "                            \"sparse\": convert_defaultdict(res['lexical_weights'][i])\n",
    "                        },\n",
    "                        payload = {\n",
    "                            \"doc_id\": doc_id,\n",
    "                            \"title\": title,\n",
    "                            \"summary\": summary,\n",
    "                            \"source\": source,\n",
    "                            \"content\": content,\n",
    "                        }\n",
    "\n",
    "                    )\n",
    "                ],\n",
    "                batch_size=1\n",
    "            )\n",
    "        except:\n",
    "            print(f\"Error when uploading - {doc_id}\")\n",
    "            continue\n"
   ]
  },
  {
   "cell_type": "code",
   "execution_count": 12,
   "metadata": {},
   "outputs": [],
   "source": [
    "embeddings = None\n",
    "torch.cuda.empty_cache()"
   ]
  },
  {
   "cell_type": "code",
   "execution_count": null,
   "metadata": {},
   "outputs": [],
   "source": []
  }
 ],
 "metadata": {
  "kernelspec": {
   "display_name": "chatbots",
   "language": "python",
   "name": "python3"
  },
  "language_info": {
   "codemirror_mode": {
    "name": "ipython",
    "version": 3
   },
   "file_extension": ".py",
   "mimetype": "text/x-python",
   "name": "python",
   "nbconvert_exporter": "python",
   "pygments_lexer": "ipython3",
   "version": "3.11.9"
  }
 },
 "nbformat": 4,
 "nbformat_minor": 2
}
